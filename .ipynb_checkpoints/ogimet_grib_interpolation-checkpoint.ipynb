{
 "cells": [
  {
   "cell_type": "code",
   "execution_count": 86,
   "metadata": {},
   "outputs": [],
   "source": [
    "import re\n",
    "import numpy as np\n",
    "import pandas as pd\n",
    "\n",
    "import pygrib"
   ]
  },
  {
   "cell_type": "code",
   "execution_count": 87,
   "metadata": {},
   "outputs": [],
   "source": [
    "station_coords = (10.883333, 359.75 - 74.783333)"
   ]
  },
  {
   "cell_type": "code",
   "execution_count": 88,
   "metadata": {},
   "outputs": [],
   "source": [
    "def get_indexes_by_coord(coord, station_point, threshold=0.01):\n",
    "    for (i, grid) in enumerate(coord):\n",
    "        for (j, point) in enumerate(grid):\n",
    "            if abs(point - station_point) <= threshold:\n",
    "                return (i, j)\n",
    "            \n",
    "def update_message_value(grb, metar_value):\n",
    "    lats, lons = grb.latlons()\n",
    "\n",
    "    (i, i_j) = get_indexes_by_coord(lats, station_coords[0], threshold=1)\n",
    "    (j_i, j) = get_indexes_by_coord(lons, station_coords[1], threshold=0.1)\n",
    "\n",
    "    n_temp = np.array(grb.values, copy=True)\n",
    "    n_temp[i, j] = metar_value\n",
    "    grb['values'] = n_temp\n",
    "\n",
    "    return grb.tostring()"
   ]
  },
  {
   "cell_type": "code",
   "execution_count": 89,
   "metadata": {},
   "outputs": [],
   "source": [
    "# grbs = pygrib.open('./grib-data/fnl_20220328_12_00.grib2')\n",
    "grbs = pygrib.open('./gfs-data/gfs.t12z.pgrb2.0p25.f012')"
   ]
  },
  {
   "cell_type": "code",
   "execution_count": 90,
   "metadata": {},
   "outputs": [
    {
     "data": {
      "text/plain": [
       "[561:Surface pressure:Pa (instant):regular_ll:surface:level 0:fcst time 12 hrs:from 202203271200]"
      ]
     },
     "execution_count": 90,
     "metadata": {},
     "output_type": "execute_result"
    }
   ],
   "source": [
    "grbs.select(name='Surface pressure')"
   ]
  },
  {
   "cell_type": "code",
   "execution_count": 91,
   "metadata": {},
   "outputs": [
    {
     "data": {
      "text/plain": [
       "563:Temperature:K (instant):regular_ll:surface:level 0:fcst time 12 hrs:from 202203271200"
      ]
     },
     "execution_count": 91,
     "metadata": {},
     "output_type": "execute_result"
    }
   ],
   "source": [
    "grbs.select(name='Temperature')[41]"
   ]
  },
  {
   "cell_type": "code",
   "execution_count": 92,
   "metadata": {},
   "outputs": [
    {
     "data": {
      "text/plain": [
       "299.4060302734375"
      ]
     },
     "execution_count": 92,
     "metadata": {},
     "output_type": "execute_result"
    }
   ],
   "source": [
    "grbs.select(name='Temperature')[41].values[313, 1140]"
   ]
  },
  {
   "cell_type": "code",
   "execution_count": 93,
   "metadata": {},
   "outputs": [
    {
     "data": {
      "text/plain": [
       "675:U component of wind:m s**-1 (instant):regular_ll:heightAboveGround:level 20 m:fcst time 12 hrs:from 202203271200"
      ]
     },
     "execution_count": 93,
     "metadata": {},
     "output_type": "execute_result"
    }
   ],
   "source": [
    "grbs.select(name='U component of wind')[44]"
   ]
  },
  {
   "cell_type": "code",
   "execution_count": 94,
   "metadata": {},
   "outputs": [
    {
     "data": {
      "text/plain": [
       "676:V component of wind:m s**-1 (instant):regular_ll:heightAboveGround:level 20 m:fcst time 12 hrs:from 202203271200"
      ]
     },
     "execution_count": 94,
     "metadata": {},
     "output_type": "execute_result"
    }
   ],
   "source": [
    "grbs.select(name='V component of wind')[44]"
   ]
  },
  {
   "cell_type": "code",
   "execution_count": 95,
   "metadata": {},
   "outputs": [],
   "source": [
    "metar = pd.read_hdf('./surface-data/metar_20220328_12_00.h5')\n",
    "\n",
    "metar_data_by_messagenumber = {\n",
    "    561: metar.press,\n",
    "    563: metar.temp,\n",
    "    675: metar.uwind,\n",
    "    676: metar.vwind\n",
    "}"
   ]
  },
  {
   "cell_type": "code",
   "execution_count": 96,
   "metadata": {},
   "outputs": [
    {
     "data": {
      "text/plain": [
       "0    299.15\n",
       "Name: temp, dtype: float64"
      ]
     },
     "execution_count": 96,
     "metadata": {},
     "output_type": "execute_result"
    }
   ],
   "source": [
    "metar.temp"
   ]
  },
  {
   "cell_type": "code",
   "execution_count": 97,
   "metadata": {},
   "outputs": [],
   "source": [
    "messages = []\n",
    "\n",
    "for grb in grbs:\n",
    "    if grb.messagenumber in metar_data_by_messagenumber.keys():\n",
    "        messages.append(update_message_value(grb, metar_data_by_messagenumber[grb.messagenumber]))\n",
    "    else:\n",
    "        messages.append(grb.tostring())\n",
    "        \n",
    "grbs.close()"
   ]
  },
  {
   "cell_type": "code",
   "execution_count": 98,
   "metadata": {},
   "outputs": [],
   "source": [
    "grbout = open('test.grb', 'wb')\n",
    "\n",
    "for msg in messages:\n",
    "    grbout.write(msg)\n",
    "\n",
    "grbout.close()"
   ]
  },
  {
   "cell_type": "code",
   "execution_count": 99,
   "metadata": {},
   "outputs": [
    {
     "data": {
      "text/plain": [
       "299.20603027343753"
      ]
     },
     "execution_count": 99,
     "metadata": {},
     "output_type": "execute_result"
    }
   ],
   "source": [
    "grbs = pygrib.open('test.grb')\n",
    "\n",
    "grbs.select(name='Temperature')[41].values[313, 1140]"
   ]
  },
  {
   "cell_type": "code",
   "execution_count": null,
   "metadata": {},
   "outputs": [],
   "source": []
  }
 ],
 "metadata": {
  "kernelspec": {
   "display_name": "Python 3",
   "language": "python",
   "name": "python3"
  },
  "language_info": {
   "codemirror_mode": {
    "name": "ipython",
    "version": 3
   },
   "file_extension": ".py",
   "mimetype": "text/x-python",
   "name": "python",
   "nbconvert_exporter": "python",
   "pygments_lexer": "ipython3",
   "version": "3.9.5"
  }
 },
 "nbformat": 4,
 "nbformat_minor": 4
}
