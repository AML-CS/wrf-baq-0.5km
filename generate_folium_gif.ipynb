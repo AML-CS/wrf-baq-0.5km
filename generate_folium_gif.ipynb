{
 "cells": [
  {
   "cell_type": "code",
   "execution_count": 73,
   "metadata": {},
   "outputs": [],
   "source": [
    "import os\n",
    "import time\n",
    "import imageio\n",
    "import json\n",
    "import glob\n",
    "from datetime import datetime, timedelta\n",
    "\n",
    "import folium \n",
    "import geojsoncontour\n",
    "import numpy as np\n",
    "\n",
    "from folium import plugins\n",
    "from netCDF4 import Dataset as NetCDFFile\n",
    "import matplotlib.pyplot as plt\n",
    "\n",
    "import branca.colormap as cm\n",
    "from matplotlib import colors as mcolors\n",
    "from wrf import getvar, interplevel, to_np, latlon_coords\n",
    "\n",
    "from PIL import Image\n",
    "from pathlib import Path\n",
    "\n",
    "import selenium.webdriver\n",
    "from selenium.webdriver.firefox.options import Options"
   ]
  },
  {
   "cell_type": "code",
   "execution_count": 74,
   "metadata": {},
   "outputs": [],
   "source": [
    "options = Options()\n",
    "options.headless = True\n",
    "\n",
    "driver = selenium.webdriver.Firefox(executable_path='/usr/bin/geckodriver', options=options)"
   ]
  },
  {
   "cell_type": "code",
   "execution_count": null,
   "metadata": {},
   "outputs": [],
   "source": [
    "start_date = datetime.strptime(sys.argv[1], '%Y-%m-%d %H')"
   ]
  },
  {
   "cell_type": "code",
   "execution_count": 75,
   "metadata": {},
   "outputs": [],
   "source": [
    "nc = NetCDFFile('./wrf_output')\n",
    "time_size = nc.dimensions['Time'].size"
   ]
  },
  {
   "cell_type": "code",
   "execution_count": null,
   "metadata": {},
   "outputs": [],
   "source": [
    "def get_data(nc_file: NetCDFFile, timeidx:int, dx: int):\n",
    "    height = getvar(nc_file, 'height', timeidx=timeidx)\n",
    "    u_all = getvar(nc_file, 'ua', timeidx=timeidx)\n",
    "    v_all = getvar(nc_file, 'va', timeidx=timeidx)\n",
    "    w_all = getvar(nc_file, 'wa', timeidx=timeidx)\n",
    "    T_all = getvar(nc_file, 'tc', timeidx=timeidx)\n",
    "    P_all = getvar(nc_file, 'pressure', timeidx=timeidx)\n",
    "\n",
    "    P = interplevel(P_all, height, dx)\n",
    "    T = interplevel(T_all, height, dx)\n",
    "    u = interplevel(u_all, height, dx)\n",
    "    v = interplevel(v_all, height, dx)\n",
    "    w = interplevel(w_all, height, dx)\n",
    "\n",
    "    return (T, u, v, np.sqrt(u ** 2 + v ** 2 + w ** 2), P)\n",
    "\n",
    "\n",
    "def get_folium(nc_file: NetCDFFile, timeidx: int, var_key: str):\n",
    "    (T, U, V, mag, P) = get_data(nc_file, timeidx, dx=1000)\n",
    "    (lats, lons) = latlon_coords(mag)\n",
    "\n",
    "    figure = plt.figure()\n",
    "    ax = figure.add_subplot(111)\n",
    "    \n",
    "    variables = {\n",
    "        'wind': ('Wind velocity in m/s', mag),\n",
    "        'temp': ('Tempeture in celsius', T),\n",
    "        'u_wind': ('U_Wind Velocity in m/s', U),\n",
    "        'v_wind': ('V_Wind Velocity in m/s', V),\n",
    "        'pressure': ('Pressure in hPa', P)\n",
    "    }\n",
    "    \n",
    "    (caption, variable) = variables[var_key]\n",
    "\n",
    "    contour = ax.contourf(lons, lats, variable, cmap=plt.cm.jet)\n",
    "    cbar = figure.colorbar(contour)\n",
    "\n",
    "    gj = json.loads(geojsoncontour.contourf_to_geojson(contourf=contour, ndigits=3, unit='m'))\n",
    "\n",
    "    folium_map = folium.Map(\n",
    "        location=[lats.mean() - 0.08, lons.mean()],\n",
    "        tiles='Cartodb Positron',\n",
    "        zoom_start=10,\n",
    "        zoom_control=False,\n",
    "        scrollWheelZoom=False,\n",
    "        dragging=False\n",
    "    )\n",
    "\n",
    "    folium.GeoJson(\n",
    "        gj,\n",
    "        style_function=lambda x: {\n",
    "            'color': x['properties']['stroke'],\n",
    "            'weight': x['properties']['stroke-width'],\n",
    "            'fillColor': x['properties']['fill'],\n",
    "            'opacity': 0.4,\n",
    "        },\n",
    "        name='geojson'\n",
    "    ).add_to(folium_map)\n",
    "\n",
    "    colormap = cm.LinearColormap(\n",
    "        colors=['darkblue', 'blue', 'cyan', 'green', 'greenyellow', 'yellow', 'orange', 'red', 'darkred'],\n",
    "        index=np.array(cbar.values), vmin=cbar.values[0],\n",
    "        vmax=cbar.values[len(cbar.values) - 1],\n",
    "        caption=caption\n",
    "    )\n",
    "\n",
    "    folium_map.add_child(colormap)\n",
    "    \n",
    "    date = start_date + timedelta(hours=timeidx * 3)\n",
    "    folium_map.get_root().html.add_child(folium.Element('<span style=\"position:fixed;z-index:999;font-size:12px;margin:4px\">Date: {}</span>'.format(date)))\n",
    "\n",
    "    return (folium_map, figure)\n",
    "\n",
    "\n",
    "def get_image(timeidx: int, var_key: str):\n",
    "    (f_map, fig) = get_folium(nc, timeidx, var_key)\n",
    "    \n",
    "    html_file = f\"{var_key}_{timeidx}.html\"\n",
    "    png_file = f\"{var_key}_{timeidx}.png\"\n",
    "    \n",
    "    f_map.save(html_file)\n",
    "    \n",
    "    driver.set_window_size(600, 600)\n",
    "    driver.get(f\"file://{os.getcwd()}/{html_file}\")\n",
    "    \n",
    "    time.sleep(2)\n",
    "    driver.save_screenshot(png_file)\n",
    "\n",
    "    img = imageio.imread(png_file)\n",
    "\n",
    "    os.remove(html_file)\n",
    "    os.remove(png_file)\n",
    "\n",
    "    return img"
   ]
  },
  {
   "cell_type": "code",
   "execution_count": 77,
   "metadata": {},
   "outputs": [
    {
     "ename": "NameError",
     "evalue": "name 'start_date' is not defined",
     "output_type": "error",
     "traceback": [
      "\u001b[0;31m---------------------------------------------------------------------------\u001b[0m",
      "\u001b[0;31mNameError\u001b[0m                                 Traceback (most recent call last)",
      "\u001b[0;32m<ipython-input-77-40f4572b6a28>\u001b[0m in \u001b[0;36m<module>\u001b[0;34m\u001b[0m\n\u001b[1;32m      1\u001b[0m \u001b[0mvar_key\u001b[0m \u001b[0;34m=\u001b[0m \u001b[0;34m'temp'\u001b[0m\u001b[0;34m\u001b[0m\u001b[0;34m\u001b[0m\u001b[0m\n\u001b[1;32m      2\u001b[0m \u001b[0;34m\u001b[0m\u001b[0m\n\u001b[0;32m----> 3\u001b[0;31m \u001b[0mresults\u001b[0m \u001b[0;34m=\u001b[0m \u001b[0;34m[\u001b[0m\u001b[0mget_image\u001b[0m\u001b[0;34m(\u001b[0m\u001b[0mtimeidx\u001b[0m\u001b[0;34m,\u001b[0m \u001b[0mvar_key\u001b[0m\u001b[0;34m)\u001b[0m \u001b[0;32mfor\u001b[0m \u001b[0mtimeidx\u001b[0m \u001b[0;32min\u001b[0m \u001b[0mrange\u001b[0m\u001b[0;34m(\u001b[0m\u001b[0mtime_size\u001b[0m\u001b[0;34m)\u001b[0m\u001b[0;34m]\u001b[0m\u001b[0;34m\u001b[0m\u001b[0;34m\u001b[0m\u001b[0m\n\u001b[0m\u001b[1;32m      4\u001b[0m \u001b[0;34m\u001b[0m\u001b[0m\n\u001b[1;32m      5\u001b[0m \u001b[0mimageio\u001b[0m\u001b[0;34m.\u001b[0m\u001b[0mmimwrite\u001b[0m\u001b[0;34m(\u001b[0m\u001b[0;34mf\"{var_key}_{datetime.utcnow()}.gif\"\u001b[0m\u001b[0;34m,\u001b[0m \u001b[0mresults\u001b[0m\u001b[0;34m,\u001b[0m \u001b[0mfps\u001b[0m\u001b[0;34m=\u001b[0m\u001b[0;36m1\u001b[0m\u001b[0;34m)\u001b[0m\u001b[0;34m;\u001b[0m\u001b[0;34m\u001b[0m\u001b[0;34m\u001b[0m\u001b[0m\n",
      "\u001b[0;32m<ipython-input-77-40f4572b6a28>\u001b[0m in \u001b[0;36m<listcomp>\u001b[0;34m(.0)\u001b[0m\n\u001b[1;32m      1\u001b[0m \u001b[0mvar_key\u001b[0m \u001b[0;34m=\u001b[0m \u001b[0;34m'temp'\u001b[0m\u001b[0;34m\u001b[0m\u001b[0;34m\u001b[0m\u001b[0m\n\u001b[1;32m      2\u001b[0m \u001b[0;34m\u001b[0m\u001b[0m\n\u001b[0;32m----> 3\u001b[0;31m \u001b[0mresults\u001b[0m \u001b[0;34m=\u001b[0m \u001b[0;34m[\u001b[0m\u001b[0mget_image\u001b[0m\u001b[0;34m(\u001b[0m\u001b[0mtimeidx\u001b[0m\u001b[0;34m,\u001b[0m \u001b[0mvar_key\u001b[0m\u001b[0;34m)\u001b[0m \u001b[0;32mfor\u001b[0m \u001b[0mtimeidx\u001b[0m \u001b[0;32min\u001b[0m \u001b[0mrange\u001b[0m\u001b[0;34m(\u001b[0m\u001b[0mtime_size\u001b[0m\u001b[0;34m)\u001b[0m\u001b[0;34m]\u001b[0m\u001b[0;34m\u001b[0m\u001b[0;34m\u001b[0m\u001b[0m\n\u001b[0m\u001b[1;32m      4\u001b[0m \u001b[0;34m\u001b[0m\u001b[0m\n\u001b[1;32m      5\u001b[0m \u001b[0mimageio\u001b[0m\u001b[0;34m.\u001b[0m\u001b[0mmimwrite\u001b[0m\u001b[0;34m(\u001b[0m\u001b[0;34mf\"{var_key}_{datetime.utcnow()}.gif\"\u001b[0m\u001b[0;34m,\u001b[0m \u001b[0mresults\u001b[0m\u001b[0;34m,\u001b[0m \u001b[0mfps\u001b[0m\u001b[0;34m=\u001b[0m\u001b[0;36m1\u001b[0m\u001b[0;34m)\u001b[0m\u001b[0;34m;\u001b[0m\u001b[0;34m\u001b[0m\u001b[0;34m\u001b[0m\u001b[0m\n",
      "\u001b[0;32m<ipython-input-76-829cbbbfd982>\u001b[0m in \u001b[0;36mget_image\u001b[0;34m(timeidx, var_key)\u001b[0m\n\u001b[1;32m     74\u001b[0m \u001b[0;34m\u001b[0m\u001b[0m\n\u001b[1;32m     75\u001b[0m \u001b[0;32mdef\u001b[0m \u001b[0mget_image\u001b[0m\u001b[0;34m(\u001b[0m\u001b[0mtimeidx\u001b[0m\u001b[0;34m:\u001b[0m \u001b[0mint\u001b[0m\u001b[0;34m,\u001b[0m \u001b[0mvar_key\u001b[0m\u001b[0;34m:\u001b[0m \u001b[0mstr\u001b[0m\u001b[0;34m)\u001b[0m\u001b[0;34m:\u001b[0m\u001b[0;34m\u001b[0m\u001b[0;34m\u001b[0m\u001b[0m\n\u001b[0;32m---> 76\u001b[0;31m     \u001b[0;34m(\u001b[0m\u001b[0mf_map\u001b[0m\u001b[0;34m,\u001b[0m \u001b[0mfig\u001b[0m\u001b[0;34m)\u001b[0m \u001b[0;34m=\u001b[0m \u001b[0mget_folium\u001b[0m\u001b[0;34m(\u001b[0m\u001b[0mnc\u001b[0m\u001b[0;34m,\u001b[0m \u001b[0mtimeidx\u001b[0m\u001b[0;34m,\u001b[0m \u001b[0mvar_key\u001b[0m\u001b[0;34m)\u001b[0m\u001b[0;34m\u001b[0m\u001b[0;34m\u001b[0m\u001b[0m\n\u001b[0m\u001b[1;32m     77\u001b[0m \u001b[0;34m\u001b[0m\u001b[0m\n\u001b[1;32m     78\u001b[0m     \u001b[0mhtml_file\u001b[0m \u001b[0;34m=\u001b[0m \u001b[0;34mf\"{var_key}_{timeidx}.html\"\u001b[0m\u001b[0;34m\u001b[0m\u001b[0;34m\u001b[0m\u001b[0m\n",
      "\u001b[0;32m<ipython-input-76-829cbbbfd982>\u001b[0m in \u001b[0;36mget_folium\u001b[0;34m(nc_file, timeidx, var_key)\u001b[0m\n\u001b[1;32m     67\u001b[0m     \u001b[0mfolium_map\u001b[0m\u001b[0;34m.\u001b[0m\u001b[0madd_child\u001b[0m\u001b[0;34m(\u001b[0m\u001b[0mcolormap\u001b[0m\u001b[0;34m)\u001b[0m\u001b[0;34m\u001b[0m\u001b[0;34m\u001b[0m\u001b[0m\n\u001b[1;32m     68\u001b[0m \u001b[0;34m\u001b[0m\u001b[0m\n\u001b[0;32m---> 69\u001b[0;31m     \u001b[0mdate\u001b[0m \u001b[0;34m=\u001b[0m \u001b[0mstart_date\u001b[0m \u001b[0;34m+\u001b[0m \u001b[0mtimedelta\u001b[0m\u001b[0;34m(\u001b[0m\u001b[0mhours\u001b[0m\u001b[0;34m=\u001b[0m\u001b[0mtimeidx\u001b[0m \u001b[0;34m*\u001b[0m \u001b[0;36m3\u001b[0m\u001b[0;34m)\u001b[0m\u001b[0;34m\u001b[0m\u001b[0;34m\u001b[0m\u001b[0m\n\u001b[0m\u001b[1;32m     70\u001b[0m     \u001b[0mfolium_map\u001b[0m\u001b[0;34m.\u001b[0m\u001b[0mget_root\u001b[0m\u001b[0;34m(\u001b[0m\u001b[0;34m)\u001b[0m\u001b[0;34m.\u001b[0m\u001b[0mhtml\u001b[0m\u001b[0;34m.\u001b[0m\u001b[0madd_child\u001b[0m\u001b[0;34m(\u001b[0m\u001b[0mfolium\u001b[0m\u001b[0;34m.\u001b[0m\u001b[0mElement\u001b[0m\u001b[0;34m(\u001b[0m\u001b[0;34m'<span style=\"position:fixed;z-index:999;font-size:12px;margin:4px\">Date: {}</span>'\u001b[0m\u001b[0;34m.\u001b[0m\u001b[0mformat\u001b[0m\u001b[0;34m(\u001b[0m\u001b[0mdate\u001b[0m\u001b[0;34m)\u001b[0m\u001b[0;34m)\u001b[0m\u001b[0;34m)\u001b[0m\u001b[0;34m\u001b[0m\u001b[0;34m\u001b[0m\u001b[0m\n\u001b[1;32m     71\u001b[0m \u001b[0;34m\u001b[0m\u001b[0m\n",
      "\u001b[0;31mNameError\u001b[0m: name 'start_date' is not defined"
     ]
    }
   ],
   "source": [
    "var_key = 'temp'\n",
    "\n",
    "results = [get_image(timeidx, var_key) for timeidx in range(time_size)]\n",
    "\n",
    "imageio.mimwrite(f\"{var_key}_{datetime.utcnow()}.gif\", results, fps=1);"
   ]
  },
  {
   "cell_type": "code",
   "execution_count": null,
   "metadata": {},
   "outputs": [],
   "source": []
  }
 ],
 "metadata": {
  "kernelspec": {
   "display_name": "Python 3",
   "language": "python",
   "name": "python3"
  },
  "language_info": {
   "codemirror_mode": {
    "name": "ipython",
    "version": 3
   },
   "file_extension": ".py",
   "mimetype": "text/x-python",
   "name": "python",
   "nbconvert_exporter": "python",
   "pygments_lexer": "ipython3",
   "version": "3.9.5"
  }
 },
 "nbformat": 4,
 "nbformat_minor": 4
}
