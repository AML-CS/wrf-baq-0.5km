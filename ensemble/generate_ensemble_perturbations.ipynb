{
 "cells": [
  {
   "cell_type": "code",
   "execution_count": 5,
   "metadata": {},
   "outputs": [],
   "source": [
    "import numpy as np\n",
    "from wrf import getvar, interplevel, to_np, latlon_coords\n",
    "import netCDF4 as nc\n",
    "\n",
    "def change(var,nc_file):\n",
    "    vari=np.empty_like(nc_file.variables[var]);\n",
    "    for hr in range(time):\n",
    "        for lvl in range(levels):\n",
    "            vari[hr][lvl]=perturbar(nc_file.variables[var][hr][lvl], per);\n",
    "    return vari;\n",
    "\n",
    "def perturbar(var, pert):\n",
    "    shap= var.shape\n",
    "    var_pert = var + pert * np.random.randn(shap[0],shap[1]);\n",
    "    return var_pert.astype(dtype='float32');\n",
    "\n",
    "def create_file_from_source(src, trg_file):\n",
    "    trg = nc.Dataset(trg_file, mode='w')\n",
    "\n",
    "    # Create the dimensions of the file\n",
    "    for name, dim in src.dimensions.items():\n",
    "        trg.createDimension(name, len(dim) if not dim.isunlimited() else None)\n",
    "\n",
    "    # Copy the global attributes\n",
    "    trg.setncatts({a:src.getncattr(a) for a in src.ncattrs()})\n",
    "\n",
    "    # Create the variables in the file\n",
    "    for name, var in src.variables.items():\n",
    "        trg.createVariable(name, var.dtype, var.dimensions)\n",
    "\n",
    "        # Copy the variable attributes\n",
    "        trg.variables[name].setncatts({a:var.getncattr(a) for a in var.ncattrs()})\n",
    "\n",
    "        # Copy the variables values (as 'f4' eventually)\n",
    "        if name=='U' or name=='V' or name=='W' or name=='P' or name=='T':\n",
    "            trg.variables[name][:] = change(name,src)\n",
    "        else:\n",
    "            trg.variables[name][:] = src.variables[name][:]\n",
    "\n",
    "    # Save the file\n",
    "    trg.close()"
   ]
  },
  {
   "cell_type": "code",
   "execution_count": 7,
   "metadata": {},
   "outputs": [],
   "source": [
    "input_file ='/home/syseng/omejiaa/workspace/wrfout.nc'\n",
    "out_file ='/home/syseng/omejiaa/workspace/wrfout_perturbado.nc'\n",
    "per        = 0.01\n",
    "nc_file    = nc.Dataset(input_file)\n",
    "date       = getvar(nc_file,'Times')\n",
    "time       = nc_file.variables['ZNU'].shape[0]\n",
    "levels     = nc_file.variables['ZNU'].shape[1]\n",
    "create_file_from_source(nc_file, out_file)"
   ]
  }
 ],
 "metadata": {
  "kernelspec": {
   "display_name": "Python 3",
   "language": "python",
   "name": "python3"
  },
  "language_info": {
   "codemirror_mode": {
    "name": "ipython",
    "version": 3
   },
   "file_extension": ".py",
   "mimetype": "text/x-python",
   "name": "python",
   "nbconvert_exporter": "python",
   "pygments_lexer": "ipython3",
   "version": "3.9.5"
  }
 },
 "nbformat": 4,
 "nbformat_minor": 4
}
