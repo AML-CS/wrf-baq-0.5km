{
 "cells": [
  {
   "cell_type": "code",
   "execution_count": 9,
   "metadata": {},
   "outputs": [],
   "source": [
    "import os\n",
    "import re\n",
    "import glob\n",
    "from pathlib import Path\n",
    "\n",
    "import numpy as np\n",
    "import pandas as pd\n",
    "from datetime import datetime\n",
    "\n",
    "import pygrib"
   ]
  },
  {
   "cell_type": "code",
   "execution_count": 40,
   "metadata": {},
   "outputs": [],
   "source": [
    "def get_indexes_by_coord(coord, station_point, threshold=0.01):\n",
    "    for (i, grid) in enumerate(coord):\n",
    "        for (j, point) in enumerate(grid):\n",
    "            if abs(point - station_point) <= threshold:\n",
    "                return (i, j)\n",
    "            \n",
    "def update_message_value(grb, metar_value):\n",
    "    lats, lons = grb.latlons()\n",
    "\n",
    "    (i, i_j) = get_indexes_by_coord(lats, station_coords[0], threshold=1)\n",
    "    (j_i, j) = get_indexes_by_coord(lons, station_coords[1], threshold=0.1)\n",
    "\n",
    "    n_temp = np.array(grb.values, copy=True)\n",
    "    n_temp[i, j] = metar_value\n",
    "    grb['values'] = n_temp\n",
    "\n",
    "    return grb.tostring()\n",
    "\n",
    "def load_metar(grbs, filename):\n",
    "    metar = pd.read_hdf(filename)\n",
    "    \n",
    "    surface_temp = grbs.select(name='Temperature')[41]\n",
    "    surface_uwind = grbs.select(name='U component of wind')[41]\n",
    "    surface_vwind = grbs.select(name='V component of wind')[41]\n",
    "    surface_press = grbs.select(name='Surface pressure')[0]\n",
    "    \n",
    "    print(f\"{surface_temp} \\n{surface_uwind}, \\n{surface_vwind}, \\n{surface_press}\")\n",
    "    \n",
    "    metar_data_by_messagenumber = {\n",
    "        surface_temp.messagenumber: metar.temp,\n",
    "        surface_uwind.messagenumber: metar.uwind,\n",
    "        surface_vwind.messagenumber: metar.vwind,\n",
    "        surface_press.messagenumber: metar.press\n",
    "    }\n",
    "    return metar_data_by_messagenumber\n",
    "\n",
    "def save_grib(messages, filename):\n",
    "    grbout = open(filename, 'wb')\n",
    "\n",
    "    for msg in messages:\n",
    "        grbout.write(msg)\n",
    "\n",
    "    grbout.close()"
   ]
  },
  {
   "cell_type": "code",
   "execution_count": 41,
   "metadata": {},
   "outputs": [
    {
     "name": "stdout",
     "output_type": "stream",
     "text": [
      "299.216748046875\n",
      "-2.3136718750000003\n",
      "-2.758544921875\n",
      "100800.23125000001\n"
     ]
    }
   ],
   "source": [
    "grbs = pygrib.open('./gfs-data/gfs_20220331_12_00.pgrb2.0p25')\n",
    "\n",
    "print(grbs.select(name='Temperature')[41].values[313, 1140])\n",
    "print(grbs.select(name='U component of wind')[41].values[313, 1140])\n",
    "print(grbs.select(name='V component of wind')[41].values[313, 1140])\n",
    "print(grbs.select(name='Surface pressure')[0].values[313, 1140])"
   ]
  },
  {
   "cell_type": "code",
   "execution_count": 42,
   "metadata": {},
   "outputs": [
    {
     "data": {
      "text/html": [
       "<div>\n",
       "<style scoped>\n",
       "    .dataframe tbody tr th:only-of-type {\n",
       "        vertical-align: middle;\n",
       "    }\n",
       "\n",
       "    .dataframe tbody tr th {\n",
       "        vertical-align: top;\n",
       "    }\n",
       "\n",
       "    .dataframe thead th {\n",
       "        text-align: right;\n",
       "    }\n",
       "</style>\n",
       "<table border=\"1\" class=\"dataframe\">\n",
       "  <thead>\n",
       "    <tr style=\"text-align: right;\">\n",
       "      <th></th>\n",
       "      <th>lat</th>\n",
       "      <th>long</th>\n",
       "      <th>temp</th>\n",
       "      <th>uwind</th>\n",
       "      <th>vwind</th>\n",
       "      <th>press</th>\n",
       "    </tr>\n",
       "  </thead>\n",
       "  <tbody>\n",
       "    <tr>\n",
       "      <th>0</th>\n",
       "      <td>10.883333</td>\n",
       "      <td>-74.783333</td>\n",
       "      <td>299.15</td>\n",
       "      <td>-2.31475</td>\n",
       "      <td>-2.758611</td>\n",
       "      <td>100800.0</td>\n",
       "    </tr>\n",
       "  </tbody>\n",
       "</table>\n",
       "</div>"
      ],
      "text/plain": [
       "         lat       long    temp    uwind     vwind     press\n",
       "0  10.883333 -74.783333  299.15 -2.31475 -2.758611  100800.0"
      ]
     },
     "execution_count": 42,
     "metadata": {},
     "output_type": "execute_result"
    }
   ],
   "source": [
    "pd.read_hdf('./ogimet-data/metar_20220331_12_00.h5')"
   ]
  },
  {
   "cell_type": "code",
   "execution_count": 43,
   "metadata": {},
   "outputs": [
    {
     "name": "stdout",
     "output_type": "stream",
     "text": [
      "Interpolate ./gfs-data/gfs_20220331_12_00.pgrb2.0p25, based on ./ogimet-data/metar_20220331_12_00.h5\n",
      "563:Temperature:K (instant):regular_ll:surface:level 0:fcst time 0 hrs:from 202203311200 \n",
      "548:U component of wind:m s**-1 (instant):regular_ll:isobaricInhPa:level 100000 Pa:fcst time 0 hrs:from 202203311200, \n",
      "549:V component of wind:m s**-1 (instant):regular_ll:isobaricInhPa:level 100000 Pa:fcst time 0 hrs:from 202203311200, \n",
      "561:Surface pressure:Pa (instant):regular_ll:surface:level 0:fcst time 0 hrs:from 202203311200\n",
      "./gfs-data/gfs_20220331_12_00.pgrb2.0p25 saved in ./gfs-data\n",
      "Interpolate ./gfs-data/gfs_20220331_15_00.pgrb2.0p25, based on ./ogimet-data/metar_20220331_15_00.h5\n",
      "563:Temperature:K (instant):regular_ll:surface:level 0:fcst time 3 hrs:from 202203311200 \n",
      "548:U component of wind:m s**-1 (instant):regular_ll:isobaricInhPa:level 100000 Pa:fcst time 3 hrs:from 202203311200, \n",
      "549:V component of wind:m s**-1 (instant):regular_ll:isobaricInhPa:level 100000 Pa:fcst time 3 hrs:from 202203311200, \n",
      "561:Surface pressure:Pa (instant):regular_ll:surface:level 0:fcst time 3 hrs:from 202203311200\n",
      "./gfs-data/gfs_20220331_15_00.pgrb2.0p25 saved in ./gfs-data\n"
     ]
    }
   ],
   "source": [
    "(station_lat, station_lon) = \"10.883333,-74.783333\".split(',')\n",
    "station_coords = (float(station_lat), 359.75 + float(station_lon))\n",
    "\n",
    "for metar_file in glob.glob('./ogimet-data/*.h5'):\n",
    "    date = datetime.strptime(metar_file, './ogimet-data/metar_%Y%m%d_%H_00.h5')\n",
    "    grib_file = './gfs-data/gfs_{0:%Y}{0:%m}{0:%d}_{0:%H}_00.pgrb2.0p25.*'.format(date)\n",
    "    grib_file = glob.glob(grib_file)[0]\n",
    "\n",
    "    print(f\"Interpolate {grib_file}, based on {metar_file}\")\n",
    "\n",
    "    grbs = pygrib.open(grib_file)\n",
    "\n",
    "    metar_data_by_messagenumber = load_metar(grbs, metar_file)\n",
    "\n",
    "    messages = []\n",
    "    for grb in grbs:\n",
    "        if grb.messagenumber in metar_data_by_messagenumber.keys():\n",
    "            messages.append(update_message_value(grb, metar_data_by_messagenumber[grb.messagenumber]))\n",
    "        else:\n",
    "            messages.append(grb.tostring())\n",
    "\n",
    "    grbs.close()\n",
    "\n",
    "    save_grib(messages, grib_file)\n",
    "\n",
    "    print(f\"{grib_file} saved in ./gfs-data\")"
   ]
  },
  {
   "cell_type": "code",
   "execution_count": 5,
   "metadata": {},
   "outputs": [
    {
     "ename": "OSError",
     "evalue": "[Errno could not open %s] ../gfs-data/gfs_20220401_12_00.pgrb2.0p25.*",
     "output_type": "error",
     "traceback": [
      "\u001b[0;31m---------------------------------------------------------------------------\u001b[0m",
      "\u001b[0;31mOSError\u001b[0m                                   Traceback (most recent call last)",
      "\u001b[0;32m<ipython-input-5-f9f93583ded4>\u001b[0m in \u001b[0;36m<module>\u001b[0;34m\u001b[0m\n\u001b[0;32m----> 1\u001b[0;31m \u001b[0mpygrib\u001b[0m\u001b[0;34m.\u001b[0m\u001b[0mopen\u001b[0m\u001b[0;34m(\u001b[0m\u001b[0;34m'../gfs-data/gfs_20220401_12_00.pgrb2.0p25.*'\u001b[0m\u001b[0;34m)\u001b[0m\u001b[0;34m\u001b[0m\u001b[0;34m\u001b[0m\u001b[0m\n\u001b[0m",
      "\u001b[0;32msrc/pygrib/_pygrib.pyx\u001b[0m in \u001b[0;36mpygrib._pygrib.open.__cinit__\u001b[0;34m()\u001b[0m\n",
      "\u001b[0;31mOSError\u001b[0m: [Errno could not open %s] ../gfs-data/gfs_20220401_12_00.pgrb2.0p25.*"
     ]
    }
   ],
   "source": [
    " pygrib.open('../gfs-data/gfs_20220401_12_00.pgrb2.0p25.*')"
   ]
  },
  {
   "cell_type": "code",
   "execution_count": 6,
   "metadata": {},
   "outputs": [
    {
     "data": {
      "text/plain": [
       "['../gfs-data/gfs_20220401_12_00.pgrb2.0p25.t006z']"
      ]
     },
     "execution_count": 6,
     "metadata": {},
     "output_type": "execute_result"
    }
   ],
   "source": []
  }
 ],
 "metadata": {
  "kernelspec": {
   "display_name": "Python 3",
   "language": "python",
   "name": "python3"
  },
  "language_info": {
   "codemirror_mode": {
    "name": "ipython",
    "version": 3
   },
   "file_extension": ".py",
   "mimetype": "text/x-python",
   "name": "python",
   "nbconvert_exporter": "python",
   "pygments_lexer": "ipython3",
   "version": "3.9.5"
  }
 },
 "nbformat": 4,
 "nbformat_minor": 4
}
