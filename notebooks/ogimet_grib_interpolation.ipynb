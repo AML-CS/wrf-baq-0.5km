{
 "cells": [
  {
   "cell_type": "code",
   "execution_count": 1,
   "metadata": {},
   "outputs": [],
   "source": [
    "import os\n",
    "import re\n",
    "import glob\n",
    "from pathlib import Path\n",
    "\n",
    "import numpy as np\n",
    "import pandas as pd\n",
    "from datetime import datetime\n",
    "\n",
    "import pygrib"
   ]
  },
  {
   "cell_type": "code",
   "execution_count": 2,
   "metadata": {},
   "outputs": [],
   "source": [
    "def get_indexes_by_coord(coord, station_point, threshold=0.01):\n",
    "    for (i, grid) in enumerate(coord):\n",
    "        for (j, point) in enumerate(grid):\n",
    "            if abs(point - station_point) <= threshold:\n",
    "                return (i, j)\n",
    "            \n",
    "def update_message_value(grb, metar_value):\n",
    "    lats, lons = grb.latlons()\n",
    "\n",
    "    (i, i_j) = get_indexes_by_coord(lats, station_coords[0], threshold=1)\n",
    "    (j_i, j) = get_indexes_by_coord(lons, station_coords[1], threshold=0.1)\n",
    "\n",
    "    n_temp = np.array(grb.values, copy=True)\n",
    "    n_temp[i, j] = metar_value\n",
    "    grb['values'] = n_temp\n",
    "\n",
    "    return grb.tostring()\n",
    "\n",
    "def load_metar(grbs, filename):\n",
    "    metar = pd.read_hdf(filename)\n",
    "    \n",
    "    surface_temp = grbs.select(name='Temperature')[41]\n",
    "    surface_uwind = grbs.select(name='U component of wind')[41]\n",
    "    surface_vwind = grbs.select(name='V component of wind')[41]\n",
    "    surface_press = grbs.select(name='Surface pressure')[0]\n",
    "    \n",
    "    print(f\"{surface_temp} \\n{surface_uwind}, \\n{surface_vwind}, \\n{surface_press}\")\n",
    "    \n",
    "    metar_data_by_messagenumber = {\n",
    "        surface_temp.messagenumber: metar.temp,\n",
    "        surface_uwind.messagenumber: metar.uwind,\n",
    "        surface_vwind.messagenumber: metar.vwind,\n",
    "        surface_press.messagenumber: metar.press\n",
    "    }\n",
    "    return metar_data_by_messagenumber\n",
    "\n",
    "def save_grib(messages, filename):\n",
    "    grbout = open(filename, 'wb')\n",
    "\n",
    "    for msg in messages:\n",
    "        grbout.write(msg)\n",
    "\n",
    "    grbout.close()"
   ]
  },
  {
   "cell_type": "code",
   "execution_count": 4,
   "metadata": {},
   "outputs": [
    {
     "name": "stdout",
     "output_type": "stream",
     "text": [
      "299.40000000000003\n",
      "-13.18576904296875\n",
      "-6.27577880859375\n",
      "101079.52500000001\n"
     ]
    }
   ],
   "source": [
    "grbs = pygrib.open('../gfs-data/gfs_20220329_06_00.pgrb2.0p25')\n",
    "\n",
    "print(grbs.select(name='Temperature')[41].values[313, 1140])\n",
    "print(grbs.select(name='U component of wind')[41].values[313, 1140])\n",
    "print(grbs.select(name='V component of wind')[41].values[313, 1140])\n",
    "print(grbs.select(name='Surface pressure')[0].values[313, 1140])"
   ]
  },
  {
   "cell_type": "code",
   "execution_count": 7,
   "metadata": {},
   "outputs": [
    {
     "data": {
      "text/plain": [
       "247.0"
      ]
     },
     "execution_count": 7,
     "metadata": {},
     "output_type": "execute_result"
    }
   ],
   "source": [
    "grbs.select(name='Temperature')[41].values.item(313 + 1140)"
   ]
  },
  {
   "cell_type": "code",
   "execution_count": 4,
   "metadata": {},
   "outputs": [
    {
     "data": {
      "text/html": [
       "<div>\n",
       "<style scoped>\n",
       "    .dataframe tbody tr th:only-of-type {\n",
       "        vertical-align: middle;\n",
       "    }\n",
       "\n",
       "    .dataframe tbody tr th {\n",
       "        vertical-align: top;\n",
       "    }\n",
       "\n",
       "    .dataframe thead th {\n",
       "        text-align: right;\n",
       "    }\n",
       "</style>\n",
       "<table border=\"1\" class=\"dataframe\">\n",
       "  <thead>\n",
       "    <tr style=\"text-align: right;\">\n",
       "      <th></th>\n",
       "      <th>lat</th>\n",
       "      <th>long</th>\n",
       "      <th>temp</th>\n",
       "      <th>uwind</th>\n",
       "      <th>vwind</th>\n",
       "      <th>press</th>\n",
       "    </tr>\n",
       "  </thead>\n",
       "  <tbody>\n",
       "    <tr>\n",
       "      <th>0</th>\n",
       "      <td>10.883333</td>\n",
       "      <td>-74.783333</td>\n",
       "      <td>299.15</td>\n",
       "      <td>-2.315</td>\n",
       "      <td>-4.009698</td>\n",
       "      <td>1010.0</td>\n",
       "    </tr>\n",
       "  </tbody>\n",
       "</table>\n",
       "</div>"
      ],
      "text/plain": [
       "         lat       long    temp  uwind     vwind   press\n",
       "0  10.883333 -74.783333  299.15 -2.315 -4.009698  1010.0"
      ]
     },
     "execution_count": 4,
     "metadata": {},
     "output_type": "execute_result"
    }
   ],
   "source": [
    "pd.read_hdf('../ogimet-data/metar_20220329_06_00.h5')"
   ]
  },
  {
   "cell_type": "code",
   "execution_count": 8,
   "metadata": {},
   "outputs": [
    {
     "name": "stdout",
     "output_type": "stream",
     "text": [
      "Interpolate ../gfs-data/gfs_20220329_06_00.pgrb2.0p25, based on ../ogimet-data/metar_20220329_06_00.h5\n",
      "563:Temperature:K (instant):regular_ll:surface:level 0:fcst time 0 hrs:from 202203290600 \n",
      "629:U component of wind:m s**-1 (instant):regular_ll:heightAboveGround:level 20 m:fcst time 0 hrs:from 202203290600, \n",
      "630:V component of wind:m s**-1 (instant):regular_ll:heightAboveGround:level 20 m:fcst time 0 hrs:from 202203290600, \n",
      "561:Surface pressure:Pa (instant):regular_ll:surface:level 0:fcst time 0 hrs:from 202203290600\n",
      "../gfs-data/gfs_20220329_06_00.pgrb2.0p25 saved in ./custom-data\n",
      "Interpolate ../gfs-data/gfs_20220329_09_00.pgrb2.0p25, based on ../ogimet-data/metar_20220329_09_00.h5\n",
      "563:Temperature:K (instant):regular_ll:surface:level 0:fcst time 3 hrs:from 202203290600 \n",
      "675:U component of wind:m s**-1 (instant):regular_ll:heightAboveGround:level 20 m:fcst time 3 hrs:from 202203290600, \n",
      "676:V component of wind:m s**-1 (instant):regular_ll:heightAboveGround:level 20 m:fcst time 3 hrs:from 202203290600, \n",
      "561:Surface pressure:Pa (instant):regular_ll:surface:level 0:fcst time 3 hrs:from 202203290600\n",
      "../gfs-data/gfs_20220329_09_00.pgrb2.0p25 saved in ./custom-data\n"
     ]
    }
   ],
   "source": [
    "(station_lat, station_lon) = \"10.883333,-74.783333\".split(',')\n",
    "station_coords = (float(station_lat), 359.75 + float(station_lon))\n",
    "\n",
    "Path('custom-data').mkdir(parents=True, exist_ok=True)\n",
    "\n",
    "for metar_file in glob.glob('../ogimet-data/*.h5'):\n",
    "    date = datetime.strptime(metar_file, '../ogimet-data/metar_%Y%m%d_%H_00.h5')\n",
    "    grib_file = '../gfs-data/gfs_{0:%Y}{0:%m}{0:%d}_{0:%H}_00.pgrb2.0p25'.format(date)\n",
    "\n",
    "    print(f\"Interpolate {grib_file}, based on {metar_file}\")\n",
    "\n",
    "    grbs = pygrib.open(grib_file)\n",
    "\n",
    "    metar_data_by_messagenumber = load_metar(grbs, metar_file)\n",
    "\n",
    "    messages = []\n",
    "    for grb in grbs:\n",
    "        if grb.messagenumber in metar_data_by_messagenumber.keys():\n",
    "            messages.append(update_message_value(grb, metar_data_by_messagenumber[grb.messagenumber]))\n",
    "        else:\n",
    "            messages.append(grb.tostring())\n",
    "\n",
    "    grbs.close()\n",
    "\n",
    "    save_grib(messages, grib_file)\n",
    "\n",
    "    print(f\"{grib_file} saved in ./custom-data\")"
   ]
  },
  {
   "cell_type": "code",
   "execution_count": null,
   "metadata": {},
   "outputs": [],
   "source": []
  },
  {
   "cell_type": "code",
   "execution_count": 2,
   "metadata": {},
   "outputs": [
    {
     "name": "stdout",
     "output_type": "stream",
     "text": [
      "298.23593750000003\n",
      "-2.034432373046875\n",
      "-0.35874267578125\n",
      "1010.0\n"
     ]
    }
   ],
   "source": [
    "grbs = pygrib.open('../gfs-data/gfs_20220330_12_00.pgrb2.0p25')\n",
    "\n",
    "print(grbs.select(name='Temperature')[41].values[313, 1140])\n",
    "print(grbs.select(name='U component of wind')[41].values[313, 1140])\n",
    "print(grbs.select(name='V component of wind')[41].values[313, 1140])\n",
    "print(grbs.select(name='Surface pressure')[0].values[313, 1140])"
   ]
  },
  {
   "cell_type": "code",
   "execution_count": 3,
   "metadata": {},
   "outputs": [
    {
     "name": "stdout",
     "output_type": "stream",
     "text": [
      "300.2\n",
      "-1.98918701171875\n",
      "-0.7076611328125\n",
      "1011.0\n"
     ]
    }
   ],
   "source": [
    "grbs = pygrib.open('../gfs-data/gfs_20220330_15_00.pgrb2.0p25')\n",
    "\n",
    "print(grbs.select(name='Temperature')[41].values[313, 1140])\n",
    "print(grbs.select(name='U component of wind')[41].values[313, 1140])\n",
    "print(grbs.select(name='V component of wind')[41].values[313, 1140])\n",
    "print(grbs.select(name='Surface pressure')[0].values[313, 1140])"
   ]
  },
  {
   "cell_type": "code",
   "execution_count": 4,
   "metadata": {},
   "outputs": [
    {
     "name": "stdout",
     "output_type": "stream",
     "text": [
      "299.6\n",
      "-10.30376953125\n",
      "-3.8299853515625\n",
      "100994.084375\n"
     ]
    }
   ],
   "source": [
    "grbs = pygrib.open('../gfs-data/gfs_20220330_18_00.pgrb2.0p25')\n",
    "\n",
    "print(grbs.select(name='Temperature')[41].values[313, 1140])\n",
    "print(grbs.select(name='U component of wind')[41].values[313, 1140])\n",
    "print(grbs.select(name='V component of wind')[41].values[313, 1140])\n",
    "print(grbs.select(name='Surface pressure')[0].values[313, 1140])"
   ]
  },
  {
   "cell_type": "code",
   "execution_count": 13,
   "metadata": {},
   "outputs": [
    {
     "name": "stdout",
     "output_type": "stream",
     "text": [
      "299.54172363281253\n",
      "-2.3267944335937503\n",
      "-0.77540283203125\n",
      "101047.375\n",
      "299.54521484375\n",
      "-2.3142578125\n",
      "-2.89908203125\n",
      "101217.88750000001\n",
      "299.49509277343753\n",
      "-0.39908203125\n",
      "-2.7271923828125\n",
      "100967.875\n"
     ]
    }
   ],
   "source": [
    "grbs = pygrib.open('../gfs-data/gfs_20220330_12_00.pgrb2.0p25')\n",
    "\n",
    "print(grbs.select(name='Temperature')[41].values[313, 1140])\n",
    "print(grbs.select(name='U component of wind')[41].values[313, 1140])\n",
    "print(grbs.select(name='V component of wind')[41].values[313, 1140])\n",
    "print(grbs.select(name='Surface pressure')[0].values[313, 1140])\n",
    "\n",
    "grbs = pygrib.open('../gfs-data/gfs_20220330_15_00.pgrb2.0p25')\n",
    "\n",
    "print(grbs.select(name='Temperature')[41].values[313, 1140])\n",
    "print(grbs.select(name='U component of wind')[41].values[313, 1140])\n",
    "print(grbs.select(name='V component of wind')[41].values[313, 1140])\n",
    "print(grbs.select(name='Surface pressure')[0].values[313, 1140])\n",
    "\n",
    "grbs = pygrib.open('../gfs-data/gfs_20220330_18_00.pgrb2.0p25')\n",
    "\n",
    "print(grbs.select(name='Temperature')[41].values[313, 1140])\n",
    "print(grbs.select(name='U component of wind')[41].values[313, 1140])\n",
    "print(grbs.select(name='V component of wind')[41].values[313, 1140])\n",
    "print(grbs.select(name='Surface pressure')[0].values[313, 1140])"
   ]
  },
  {
   "cell_type": "code",
   "execution_count": 14,
   "metadata": {},
   "outputs": [
    {
     "data": {
      "text/plain": [
       "[11:U component of wind:m s**-1 (instant):regular_ll:planetaryBoundaryLayer:level 0:fcst time 6 hrs:from 202203301200,\n",
       " 21:U component of wind:m s**-1 (instant):regular_ll:isobaricInPa:level 1 Pa:fcst time 6 hrs:from 202203301200,\n",
       " 31:U component of wind:m s**-1 (instant):regular_ll:isobaricInPa:level 2 Pa:fcst time 6 hrs:from 202203301200,\n",
       " 41:U component of wind:m s**-1 (instant):regular_ll:isobaricInPa:level 4 Pa:fcst time 6 hrs:from 202203301200,\n",
       " 51:U component of wind:m s**-1 (instant):regular_ll:isobaricInPa:level 7 Pa:fcst time 6 hrs:from 202203301200,\n",
       " 61:U component of wind:m s**-1 (instant):regular_ll:isobaricInPa:level 10 Pa:fcst time 6 hrs:from 202203301200,\n",
       " 71:U component of wind:m s**-1 (instant):regular_ll:isobaricInPa:level 20 Pa:fcst time 6 hrs:from 202203301200,\n",
       " 81:U component of wind:m s**-1 (instant):regular_ll:isobaricInPa:level 40 Pa:fcst time 6 hrs:from 202203301200,\n",
       " 91:U component of wind:m s**-1 (instant):regular_ll:isobaricInPa:level 70 Pa:fcst time 6 hrs:from 202203301200,\n",
       " 101:U component of wind:m s**-1 (instant):regular_ll:isobaricInhPa:level 100 Pa:fcst time 6 hrs:from 202203301200,\n",
       " 111:U component of wind:m s**-1 (instant):regular_ll:isobaricInhPa:level 200 Pa:fcst time 6 hrs:from 202203301200,\n",
       " 121:U component of wind:m s**-1 (instant):regular_ll:isobaricInhPa:level 300 Pa:fcst time 6 hrs:from 202203301200,\n",
       " 131:U component of wind:m s**-1 (instant):regular_ll:isobaricInhPa:level 500 Pa:fcst time 6 hrs:from 202203301200,\n",
       " 141:U component of wind:m s**-1 (instant):regular_ll:isobaricInhPa:level 700 Pa:fcst time 6 hrs:from 202203301200,\n",
       " 151:U component of wind:m s**-1 (instant):regular_ll:isobaricInhPa:level 1000 Pa:fcst time 6 hrs:from 202203301200,\n",
       " 161:U component of wind:m s**-1 (instant):regular_ll:isobaricInhPa:level 1500 Pa:fcst time 6 hrs:from 202203301200,\n",
       " 171:U component of wind:m s**-1 (instant):regular_ll:isobaricInhPa:level 2000 Pa:fcst time 6 hrs:from 202203301200,\n",
       " 181:U component of wind:m s**-1 (instant):regular_ll:isobaricInhPa:level 3000 Pa:fcst time 6 hrs:from 202203301200,\n",
       " 191:U component of wind:m s**-1 (instant):regular_ll:isobaricInhPa:level 4000 Pa:fcst time 6 hrs:from 202203301200,\n",
       " 202:U component of wind:m s**-1 (instant):regular_ll:isobaricInhPa:level 5000 Pa:fcst time 6 hrs:from 202203301200,\n",
       " 217:U component of wind:m s**-1 (instant):regular_ll:isobaricInhPa:level 7000 Pa:fcst time 6 hrs:from 202203301200,\n",
       " 228:U component of wind:m s**-1 (instant):regular_ll:isobaricInhPa:level 10000 Pa:fcst time 6 hrs:from 202203301200,\n",
       " 244:U component of wind:m s**-1 (instant):regular_ll:isobaricInhPa:level 15000 Pa:fcst time 6 hrs:from 202203301200,\n",
       " 260:U component of wind:m s**-1 (instant):regular_ll:isobaricInhPa:level 20000 Pa:fcst time 6 hrs:from 202203301200,\n",
       " 276:U component of wind:m s**-1 (instant):regular_ll:isobaricInhPa:level 25000 Pa:fcst time 6 hrs:from 202203301200,\n",
       " 292:U component of wind:m s**-1 (instant):regular_ll:isobaricInhPa:level 30000 Pa:fcst time 6 hrs:from 202203301200,\n",
       " 308:U component of wind:m s**-1 (instant):regular_ll:isobaricInhPa:level 35000 Pa:fcst time 6 hrs:from 202203301200,\n",
       " 324:U component of wind:m s**-1 (instant):regular_ll:isobaricInhPa:level 40000 Pa:fcst time 6 hrs:from 202203301200,\n",
       " 340:U component of wind:m s**-1 (instant):regular_ll:isobaricInhPa:level 45000 Pa:fcst time 6 hrs:from 202203301200,\n",
       " 356:U component of wind:m s**-1 (instant):regular_ll:isobaricInhPa:level 50000 Pa:fcst time 6 hrs:from 202203301200,\n",
       " 372:U component of wind:m s**-1 (instant):regular_ll:isobaricInhPa:level 55000 Pa:fcst time 6 hrs:from 202203301200,\n",
       " 388:U component of wind:m s**-1 (instant):regular_ll:isobaricInhPa:level 60000 Pa:fcst time 6 hrs:from 202203301200,\n",
       " 404:U component of wind:m s**-1 (instant):regular_ll:isobaricInhPa:level 65000 Pa:fcst time 6 hrs:from 202203301200,\n",
       " 420:U component of wind:m s**-1 (instant):regular_ll:isobaricInhPa:level 70000 Pa:fcst time 6 hrs:from 202203301200,\n",
       " 436:U component of wind:m s**-1 (instant):regular_ll:isobaricInhPa:level 75000 Pa:fcst time 6 hrs:from 202203301200,\n",
       " 452:U component of wind:m s**-1 (instant):regular_ll:isobaricInhPa:level 80000 Pa:fcst time 6 hrs:from 202203301200,\n",
       " 468:U component of wind:m s**-1 (instant):regular_ll:isobaricInhPa:level 85000 Pa:fcst time 6 hrs:from 202203301200,\n",
       " 484:U component of wind:m s**-1 (instant):regular_ll:isobaricInhPa:level 90000 Pa:fcst time 6 hrs:from 202203301200,\n",
       " 500:U component of wind:m s**-1 (instant):regular_ll:isobaricInhPa:level 92500 Pa:fcst time 6 hrs:from 202203301200,\n",
       " 516:U component of wind:m s**-1 (instant):regular_ll:isobaricInhPa:level 95000 Pa:fcst time 6 hrs:from 202203301200,\n",
       " 533:U component of wind:m s**-1 (instant):regular_ll:isobaricInhPa:level 97500 Pa:fcst time 6 hrs:from 202203301200,\n",
       " 548:U component of wind:m s**-1 (instant):regular_ll:isobaricInhPa:level 100000 Pa:fcst time 6 hrs:from 202203301200,\n",
       " 666:U component of wind:m s**-1 (instant):regular_ll:tropopause:level 0:fcst time 6 hrs:from 202203301200,\n",
       " 672:U component of wind:m s**-1 (instant):regular_ll:maxWind:level 0:fcst time 6 hrs:from 202203301200,\n",
       " 675:U component of wind:m s**-1 (instant):regular_ll:heightAboveGround:level 20 m:fcst time 6 hrs:from 202203301200,\n",
       " 677:U component of wind:m s**-1 (instant):regular_ll:heightAboveGround:level 30 m:fcst time 6 hrs:from 202203301200,\n",
       " 679:U component of wind:m s**-1 (instant):regular_ll:heightAboveGround:level 40 m:fcst time 6 hrs:from 202203301200,\n",
       " 681:U component of wind:m s**-1 (instant):regular_ll:heightAboveGround:level 50 m:fcst time 6 hrs:from 202203301200,\n",
       " 686:U component of wind:m s**-1 (instant):regular_ll:heightAboveGround:level 80 m:fcst time 6 hrs:from 202203301200,\n",
       " 692:U component of wind:m s**-1 (instant):regular_ll:heightAboveSea:level 1829 m:fcst time 6 hrs:from 202203301200,\n",
       " 695:U component of wind:m s**-1 (instant):regular_ll:heightAboveSea:level 2743 m:fcst time 6 hrs:from 202203301200,\n",
       " 698:U component of wind:m s**-1 (instant):regular_ll:heightAboveSea:level 3658 m:fcst time 6 hrs:from 202203301200,\n",
       " 707:U component of wind:m s**-1 (instant):regular_ll:pressureFromGroundLayer:levels 3000-0 Pa:fcst time 6 hrs:from 202203301200,\n",
       " 720:U component of wind:m s**-1 (instant):regular_ll:sigma:level 0.995 sigma value:fcst time 6 hrs:from 202203301200,\n",
       " 732:U component of wind:m s**-1 (instant):regular_ll:potentialVorticity:level 2e-06 K m2 kg-1 s-1:fcst time 6 hrs:from 202203301200,\n",
       " 738:U component of wind:m s**-1 (instant):regular_ll:potentialVorticity:level 2.147485648 K m2 kg-1 s-1:fcst time 6 hrs:from 202203301200]"
      ]
     },
     "execution_count": 14,
     "metadata": {},
     "output_type": "execute_result"
    }
   ],
   "source": [
    "grbs.select(name='U component of wind')[]"
   ]
  },
  {
   "cell_type": "code",
   "execution_count": 19,
   "metadata": {},
   "outputs": [
    {
     "data": {
      "text/plain": [
       "548:U component of wind:m s**-1 (instant):regular_ll:isobaricInhPa:level 100000 Pa:fcst time 6 hrs:from 202203301200"
      ]
     },
     "execution_count": 19,
     "metadata": {},
     "output_type": "execute_result"
    }
   ],
   "source": [
    "grbs.select(name='U component of wind')[41]"
   ]
  },
  {
   "cell_type": "code",
   "execution_count": 20,
   "metadata": {},
   "outputs": [
    {
     "data": {
      "text/plain": [
       "-11.81953369140625"
      ]
     },
     "execution_count": 20,
     "metadata": {},
     "output_type": "execute_result"
    }
   ],
   "source": [
    "grbs.select(name='U component of wind')[41].values[313, 1140]"
   ]
  },
  {
   "cell_type": "code",
   "execution_count": 21,
   "metadata": {},
   "outputs": [
    {
     "data": {
      "text/plain": [
       "-5.08626220703125"
      ]
     },
     "execution_count": 21,
     "metadata": {},
     "output_type": "execute_result"
    }
   ],
   "source": [
    "grbs.select(name='V component of wind')[41].values[313, 1140]"
   ]
  }
 ],
 "metadata": {
  "kernelspec": {
   "display_name": "Python 3",
   "language": "python",
   "name": "python3"
  },
  "language_info": {
   "codemirror_mode": {
    "name": "ipython",
    "version": 3
   },
   "file_extension": ".py",
   "mimetype": "text/x-python",
   "name": "python",
   "nbconvert_exporter": "python",
   "pygments_lexer": "ipython3",
   "version": "3.9.5"
  }
 },
 "nbformat": 4,
 "nbformat_minor": 4
}
