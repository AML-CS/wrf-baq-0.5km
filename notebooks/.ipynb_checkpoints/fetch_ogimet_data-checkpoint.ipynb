{
 "cells": [
  {
   "cell_type": "code",
   "execution_count": 4,
   "metadata": {},
   "outputs": [],
   "source": [
    "import os\n",
    "import re\n",
    "import time\n",
    "from pathlib import Path\n",
    "from datetime import datetime, timedelta\n",
    "\n",
    "import pandas as pd\n",
    "import numpy as np\n",
    "\n",
    "from urllib.request import urlopen\n",
    "from bs4 import BeautifulSoup\n",
    "\n",
    "from metar import Metar\n",
    "from metpy.units import units\n",
    "from metpy.calc import wind_components"
   ]
  },
  {
   "cell_type": "code",
   "execution_count": 9,
   "metadata": {},
   "outputs": [],
   "source": [
    "def fetch(url):\n",
    "    try:\n",
    "        html = urlopen(url).read()\n",
    "        soup = BeautifulSoup(html, features='html.parser')\n",
    "        for script in soup([\"script\", \"style\"]):\n",
    "            script.extract()\n",
    "        return soup\n",
    "    except Exception as e:\n",
    "        print(e)\n",
    "        return None\n",
    "\n",
    "def fetch_metar_by_icao_and_date(icao, start_date, end_date):\n",
    "    url = f\"https://www.ogimet.com/display_metars2.php?lang=en&lugar={icao}&tipo=SA&ord=DIR&nil=NO&fmt=txt\"\n",
    "    \n",
    "    url += '&ano={0:%Y}&mes={0:%m}&day={0:%d}&hora={0:%H}&min=00'.format(start_date)\n",
    "    url += '&anof={0:%Y}&mesf={0:%m}&dayf={0:%d}&horaf={0:%H}&minf=59'.format(end_date)\n",
    "    \n",
    "    print(f\"Fetching... {url}\", flush=True)\n",
    "    soup = fetch(url)\n",
    "    data = []\n",
    "    if soup is None:\n",
    "        return data \n",
    "    text = soup.get_text()\n",
    "    if f\"No hay METAR/SPECI de {icao} en el periodo solicitado\" in text:\n",
    "        return data \n",
    "    if \"Query made\" not in text:\n",
    "        now = datetime.datetime.now()\n",
    "        text = re.sub('\\s\\s+', ' ', text)\n",
    "        print(f\"Response: {text}\", flush=True)\n",
    "        print(now.strftime(\"%Y-%m-%d %H:%M:%S\"), f\"Retry... {year}, {month}\", flush=True)\n",
    "        time.sleep(3610)\n",
    "        return None\n",
    "    \n",
    "    text = re.sub('\\s\\s+', ' ', text)\n",
    "    matches = re.findall(r\"\\s(\\d+)[\\s]METAR\\s(.*)=\", text)\n",
    "    for match in matches:\n",
    "        if ',' not in match:\n",
    "            data.append({ 'datetime': datetime.strptime(match[0], '%Y%m%d%H%M'), 'metar': match[1] })\n",
    "\n",
    "    return data"
   ]
  },
  {
   "cell_type": "code",
   "execution_count": 6,
   "metadata": {},
   "outputs": [],
   "source": [
    "def parse_wind_components(obs):\n",
    "    u, v = wind_components(obs.wind_speed.value() * units('knots'), obs.wind_dir.value() * units.degree)\n",
    "    \n",
    "    return (u.magnitude * units('m/s'), v.magnitude * units('m/s'))"
   ]
  },
  {
   "cell_type": "code",
   "execution_count": 7,
   "metadata": {},
   "outputs": [],
   "source": [
    "def get_variables(metar):\n",
    "    try:\n",
    "        obs = Metar.Metar(metar)\n",
    "\n",
    "        temp = obs.temp.value(units='K')\n",
    "        (uwind, vwind) = parse_wind_components(obs)\n",
    "        press = obs.press.value(units='HPA')\n",
    "\n",
    "        return [temp, uwind, vwind, press]\n",
    "    except Exception as e:\n",
    "        return None\n",
    "\n",
    "def save_hdf(date, station_coords, variables):\n",
    "    df = pd.DataFrame(data=[station_coords + variables.tolist()], columns=['lat', 'long', 'temp', 'uwind', 'vwind', 'press'])\n",
    "\n",
    "    filename= 'metar_{0:%Y}{0:%m}{0:%d}_{0:%H}_00.h5'.format(date)\n",
    "    df.to_hdf(filename, key='df')\n",
    "    print(f\"{filename} saved\")"
   ]
  },
  {
   "cell_type": "code",
   "execution_count": 10,
   "metadata": {},
   "outputs": [
    {
     "name": "stdout",
     "output_type": "stream",
     "text": [
      "Fetching... https://www.ogimet.com/display_metars2.php?lang=en&lugar=SKBQ&tipo=SA&ord=DIR&nil=NO&fmt=txt&ano=2022&mes=03&day=27&hora=21&min=00&anof=2022&mesf=03&dayf=28&horaf=06&minf=59\n"
     ]
    }
   ],
   "source": [
    "station_icao = 'SKBQ'\n",
    "(station_lat, station_lon) = \"10.883333,-74.783333\".split(',')\n",
    "station_coords = [float(station_lat), float(station_lon)]\n",
    "\n",
    "gfs_interval_forecast = int(3)\n",
    "start_date = datetime.strptime('2022-03-28 00', '%Y-%m-%d %H') - timedelta(hours=gfs_interval_forecast)\n",
    "end_date = datetime.strptime('2022-03-28 06', '%Y-%m-%d %H')\n",
    "\n",
    "rows = fetch_metar_by_icao_and_date(station_icao, start_date, end_date)"
   ]
  },
  {
   "cell_type": "code",
   "execution_count": 11,
   "metadata": {},
   "outputs": [
    {
     "name": "stdout",
     "output_type": "stream",
     "text": [
      "metar_20220327_21_00.h5 saved\n",
      "metar_20220328_00_00.h5 saved\n",
      "metar_20220328_03_00.h5 saved\n",
      "metar_20220328_06_00.h5 saved\n"
     ]
    }
   ],
   "source": [
    "vars_acum = []\n",
    "for row in rows:\n",
    "    date = row['datetime']\n",
    "    variables = get_variables(row['metar'])\n",
    "\n",
    "    if variables is None:\n",
    "        continue\n",
    "\n",
    "    vars_acum.append(variables)\n",
    "\n",
    "    if date.hour % gfs_interval_forecast == 0:\n",
    "        save_hdf(date, station_coords, np.median(vars_acum, axis=0))\n",
    "        vars_acum = []"
   ]
  },
  {
   "cell_type": "code",
   "execution_count": 14,
   "metadata": {},
   "outputs": [
    {
     "data": {
      "text/html": [
       "<div>\n",
       "<style scoped>\n",
       "    .dataframe tbody tr th:only-of-type {\n",
       "        vertical-align: middle;\n",
       "    }\n",
       "\n",
       "    .dataframe tbody tr th {\n",
       "        vertical-align: top;\n",
       "    }\n",
       "\n",
       "    .dataframe thead th {\n",
       "        text-align: right;\n",
       "    }\n",
       "</style>\n",
       "<table border=\"1\" class=\"dataframe\">\n",
       "  <thead>\n",
       "    <tr style=\"text-align: right;\">\n",
       "      <th></th>\n",
       "      <th>lat</th>\n",
       "      <th>long</th>\n",
       "      <th>temp</th>\n",
       "      <th>uwind</th>\n",
       "      <th>vwind</th>\n",
       "      <th>press</th>\n",
       "    </tr>\n",
       "  </thead>\n",
       "  <tbody>\n",
       "    <tr>\n",
       "      <th>0</th>\n",
       "      <td>10.883333</td>\n",
       "      <td>-74.783333</td>\n",
       "      <td>302.15</td>\n",
       "      <td>-3.420201</td>\n",
       "      <td>-9.396926</td>\n",
       "      <td>1007.0</td>\n",
       "    </tr>\n",
       "  </tbody>\n",
       "</table>\n",
       "</div>"
      ],
      "text/plain": [
       "         lat       long    temp     uwind     vwind   press\n",
       "0  10.883333 -74.783333  302.15 -3.420201 -9.396926  1007.0"
      ]
     },
     "execution_count": 14,
     "metadata": {},
     "output_type": "execute_result"
    }
   ],
   "source": [
    "pd.read_hdf('metar_20220327_21_00.h5')"
   ]
  }
 ],
 "metadata": {
  "kernelspec": {
   "display_name": "Python 3",
   "language": "python",
   "name": "python3"
  },
  "language_info": {
   "codemirror_mode": {
    "name": "ipython",
    "version": 3
   },
   "file_extension": ".py",
   "mimetype": "text/x-python",
   "name": "python",
   "nbconvert_exporter": "python",
   "pygments_lexer": "ipython3",
   "version": "3.9.5"
  }
 },
 "nbformat": 4,
 "nbformat_minor": 4
}
