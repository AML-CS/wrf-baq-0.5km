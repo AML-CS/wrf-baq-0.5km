{
 "cells": [
  {
   "cell_type": "code",
   "execution_count": 2,
   "metadata": {},
   "outputs": [],
   "source": [
    "import os\n",
    "import re\n",
    "import time\n",
    "from pathlib import Path\n",
    "from datetime import datetime, timedelta\n",
    "\n",
    "import pandas as pd\n",
    "\n",
    "from urllib.request import urlopen\n",
    "from bs4 import BeautifulSoup\n",
    "\n",
    "from metar import Metar\n",
    "from metpy.units import units\n",
    "from metpy.calc import wind_components"
   ]
  },
  {
   "cell_type": "code",
   "execution_count": 3,
   "metadata": {},
   "outputs": [],
   "source": [
    "def fetch(url):\n",
    "    try:\n",
    "        html = urlopen(url).read()\n",
    "        soup = BeautifulSoup(html, features='html.parser')\n",
    "        for script in soup([\"script\", \"style\"]):\n",
    "            script.extract()\n",
    "        return soup\n",
    "    except Exception as e:\n",
    "        print(e)\n",
    "        return None\n",
    "\n",
    "def fetch_metar_by_icao_and_date(icao, start_date):\n",
    "    url = f\"https://www.ogimet.com/display_metars2.php?lang=en&lugar={icao}&tipo=SA&ord=DIR&nil=NO&fmt=txt\"\n",
    "    \n",
    "    url += f\"&ano={start_date.year}&mes={start_date.month}&day={start_date.day}&hora={start_date.hour}&min=00\"\n",
    "    \n",
    "    print(f\"Fetching... {url}\", flush=True)\n",
    "    soup = fetch(url)\n",
    "    data = []\n",
    "    if soup is None:\n",
    "        return data \n",
    "    text = soup.get_text()\n",
    "    if f\"No hay METAR/SPECI de {station} en el periodo solicitado\" in text:\n",
    "        return data \n",
    "    if \"Query made\" not in text:\n",
    "        now = datetime.datetime.now()\n",
    "        text = re.sub('\\s\\s+', ' ', text)\n",
    "        print(f\"Response: {text}\", flush=True)\n",
    "        print(now.strftime(\"%Y-%m-%d %H:%M:%S\"), f\"Retry... {year}, {month}\", flush=True)\n",
    "        time.sleep(3610)\n",
    "        return None\n",
    "    \n",
    "    text = re.sub('\\s\\s+', ' ', text)\n",
    "    matches = re.findall(r\"\\s(\\d+)[\\s]METAR\\s(.*)=\", text)\n",
    "    for match in matches:\n",
    "        if ',' not in match:\n",
    "            data.append({ 'datetime': datetime.strptime(match[0], '%Y%m%d%H%M'), 'metar': match[1] })\n",
    "\n",
    "    return data"
   ]
  },
  {
   "cell_type": "code",
   "execution_count": 4,
   "metadata": {},
   "outputs": [],
   "source": [
    "def parse_wind_components(obs):\n",
    "    u, v = wind_components(obs.wind_speed.value() * units('knots'), obs.wind_dir.value() * units.degree)\n",
    "    \n",
    "    return (u.magnitude, v.magnitude)"
   ]
  },
  {
   "cell_type": "code",
   "execution_count": 5,
   "metadata": {},
   "outputs": [],
   "source": [
    "def store_obs(metar, date, station_coords):\n",
    "    try:\n",
    "        obs = Metar.Metar(metar)\n",
    "        temp = obs.temp.value(units='K')\n",
    "        (uwind, vwind) = parse_wind_components(obs)\n",
    "        press = obs.press.value(units='HPA')\n",
    "\n",
    "        df = pd.DataFrame(data=[[station_coords[0], station_coords[1], temp, uwind, vwind, press]], columns=['lat', 'long', 'temp', 'uwind', 'vwind', 'press'])\n",
    "\n",
    "        filename= 'metar_{0:%Y}{0:%m}{0:%d}_{0:%H}_00.h5'.format(date)\n",
    "        print(f\"{filename} saved\")\n",
    "        df.to_hdf(filename, key='df')\n",
    "    except Exception as e:\n",
    "        print(e)"
   ]
  },
  {
   "cell_type": "code",
   "execution_count": 6,
   "metadata": {},
   "outputs": [
    {
     "name": "stdout",
     "output_type": "stream",
     "text": [
      "Fetching... https://www.ogimet.com/display_metars2.php?lang=en&lugar=SKBQ&tipo=SA&ord=DIR&nil=NO&fmt=txt&ano=2022&mes=3&day=28&hora=12&min=00\n",
      "metar_20220328_12_00.h5 saved\n",
      "metar_20220328_15_00.h5 saved\n",
      "Unparsed groups in body 'SCT018 SCT100 30/24' while processing 'SKBQ 281800Z 05013KT 999 SCT018 SCT100 30/24 Q1010 NOSIG RMK A2984'\n",
      "metar_20220328_21_00.h5 saved\n"
     ]
    }
   ],
   "source": [
    "station = 'SKBQ'\n",
    "# 10° 53' N, 074° 47' W\n",
    "station_coords = (10.883333, -74.783333)\n",
    "\n",
    "start_date = datetime.strptime('2022-03-28 12', '%Y-%m-%d %H')\n",
    "\n",
    "Path('surface-data').mkdir(parents=True, exist_ok=True)\n",
    "os.chdir('./surface-data')\n",
    "\n",
    "obs = fetch_metar_by_icao_and_date(station, start_date)\n",
    "\n",
    "for obs_item in obs:\n",
    "    if obs_item['datetime'].hour % 3 == 0:\n",
    "        store_obs(obs_item['metar'], obs_item['datetime'], station_coords)"
   ]
  },
  {
   "cell_type": "code",
   "execution_count": 7,
   "metadata": {},
   "outputs": [
    {
     "data": {
      "text/html": [
       "<div>\n",
       "<style scoped>\n",
       "    .dataframe tbody tr th:only-of-type {\n",
       "        vertical-align: middle;\n",
       "    }\n",
       "\n",
       "    .dataframe tbody tr th {\n",
       "        vertical-align: top;\n",
       "    }\n",
       "\n",
       "    .dataframe thead th {\n",
       "        text-align: right;\n",
       "    }\n",
       "</style>\n",
       "<table border=\"1\" class=\"dataframe\">\n",
       "  <thead>\n",
       "    <tr style=\"text-align: right;\">\n",
       "      <th></th>\n",
       "      <th>lat</th>\n",
       "      <th>long</th>\n",
       "      <th>temp</th>\n",
       "      <th>uwind</th>\n",
       "      <th>vwind</th>\n",
       "      <th>press</th>\n",
       "    </tr>\n",
       "  </thead>\n",
       "  <tbody>\n",
       "    <tr>\n",
       "      <th>0</th>\n",
       "      <td>10.883333</td>\n",
       "      <td>-74.783333</td>\n",
       "      <td>299.15</td>\n",
       "      <td>-0.868241</td>\n",
       "      <td>-4.924039</td>\n",
       "      <td>1010.0</td>\n",
       "    </tr>\n",
       "  </tbody>\n",
       "</table>\n",
       "</div>"
      ],
      "text/plain": [
       "         lat       long    temp     uwind     vwind   press\n",
       "0  10.883333 -74.783333  299.15 -0.868241 -4.924039  1010.0"
      ]
     },
     "execution_count": 7,
     "metadata": {},
     "output_type": "execute_result"
    }
   ],
   "source": [
    "pd.read_hdf('metar_20220328_12_00.h5')"
   ]
  }
 ],
 "metadata": {
  "kernelspec": {
   "display_name": "Python 3",
   "language": "python",
   "name": "python3"
  },
  "language_info": {
   "codemirror_mode": {
    "name": "ipython",
    "version": 3
   },
   "file_extension": ".py",
   "mimetype": "text/x-python",
   "name": "python",
   "nbconvert_exporter": "python",
   "pygments_lexer": "ipython3",
   "version": "3.9.5"
  }
 },
 "nbformat": 4,
 "nbformat_minor": 4
}
