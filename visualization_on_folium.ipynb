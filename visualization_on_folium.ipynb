{
 "cells": [
  {
   "cell_type": "code",
   "execution_count": 25,
   "metadata": {},
   "outputs": [
    {
     "name": "stdout",
     "output_type": "stream",
     "text": [
      "Requirement already satisfied: netCDF4 in /opt/ohpc/pub/apps/miniconda/4.8.3/envs/wrfda/lib/python3.9/site-packages (1.5.6)\n",
      "Requirement already satisfied: numpy>=1.9 in /opt/ohpc/pub/apps/miniconda/4.8.3/envs/wrfda/lib/python3.9/site-packages (from netCDF4) (1.20.2)\n",
      "Requirement already satisfied: cftime in /opt/ohpc/pub/apps/miniconda/4.8.3/envs/wrfda/lib/python3.9/site-packages (from netCDF4) (1.5.0)\n",
      "Requirement already satisfied: matplotlib in /opt/ohpc/pub/apps/miniconda/4.8.3/envs/wrfda/lib/python3.9/site-packages (3.3.4)\n",
      "Requirement already satisfied: cycler>=0.10 in /home/syseng/sjdonado/.local/lib/python3.9/site-packages (from matplotlib) (0.10.0)\n",
      "Requirement already satisfied: kiwisolver>=1.0.1 in /home/syseng/sjdonado/.local/lib/python3.9/site-packages (from matplotlib) (1.3.1)\n",
      "Requirement already satisfied: pyparsing!=2.0.4,!=2.1.2,!=2.1.6,>=2.0.3 in /opt/ohpc/pub/apps/miniconda/4.8.3/envs/wrfda/lib/python3.9/site-packages (from matplotlib) (2.4.7)\n",
      "Requirement already satisfied: numpy>=1.15 in /opt/ohpc/pub/apps/miniconda/4.8.3/envs/wrfda/lib/python3.9/site-packages (from matplotlib) (1.20.2)\n",
      "Requirement already satisfied: pillow>=6.2.0 in /home/syseng/sjdonado/.local/lib/python3.9/site-packages (from matplotlib) (8.2.0)\n",
      "Requirement already satisfied: python-dateutil>=2.1 in /opt/ohpc/pub/apps/miniconda/4.8.3/envs/wrfda/lib/python3.9/site-packages (from matplotlib) (2.8.1)\n",
      "Requirement already satisfied: six in /opt/ohpc/pub/apps/miniconda/4.8.3/envs/wrfda/lib/python3.9/site-packages (from cycler>=0.10->matplotlib) (1.15.0)\n",
      "Requirement already satisfied: numpy in /opt/ohpc/pub/apps/miniconda/4.8.3/envs/wrfda/lib/python3.9/site-packages (1.20.2)\n",
      "Requirement already satisfied: folium in /opt/ohpc/pub/apps/miniconda/4.8.3/envs/wrfda/lib/python3.9/site-packages (0.12.1)\n",
      "Requirement already satisfied: requests in /opt/ohpc/pub/apps/miniconda/4.8.3/envs/wrfda/lib/python3.9/site-packages (from folium) (2.25.1)\n",
      "Requirement already satisfied: branca>=0.3.0 in /opt/ohpc/pub/apps/miniconda/4.8.3/envs/wrfda/lib/python3.9/site-packages (from folium) (0.4.2)\n",
      "Requirement already satisfied: numpy in /opt/ohpc/pub/apps/miniconda/4.8.3/envs/wrfda/lib/python3.9/site-packages (from folium) (1.20.2)\n",
      "Requirement already satisfied: jinja2>=2.9 in /opt/ohpc/pub/apps/miniconda/4.8.3/envs/wrfda/lib/python3.9/site-packages (from folium) (3.0.0)\n",
      "Requirement already satisfied: MarkupSafe>=2.0.0rc2 in /opt/ohpc/pub/apps/miniconda/4.8.3/envs/wrfda/lib/python3.9/site-packages (from jinja2>=2.9->folium) (2.0.1)\n",
      "Requirement already satisfied: urllib3<1.27,>=1.21.1 in /opt/ohpc/pub/apps/miniconda/4.8.3/envs/wrfda/lib/python3.9/site-packages (from requests->folium) (1.26.4)\n",
      "Requirement already satisfied: chardet<5,>=3.0.2 in /opt/ohpc/pub/apps/miniconda/4.8.3/envs/wrfda/lib/python3.9/site-packages (from requests->folium) (4.0.0)\n",
      "Requirement already satisfied: idna<3,>=2.5 in /opt/ohpc/pub/apps/miniconda/4.8.3/envs/wrfda/lib/python3.9/site-packages (from requests->folium) (2.10)\n",
      "Requirement already satisfied: certifi>=2017.4.17 in /opt/ohpc/pub/apps/miniconda/4.8.3/envs/wrfda/lib/python3.9/site-packages (from requests->folium) (2021.5.30)\n",
      "Requirement already satisfied: mplleaflet in /opt/ohpc/pub/apps/miniconda/4.8.3/envs/wrfda/lib/python3.9/site-packages (0.0.5)\n",
      "Requirement already satisfied: jinja2 in /opt/ohpc/pub/apps/miniconda/4.8.3/envs/wrfda/lib/python3.9/site-packages (from mplleaflet) (3.0.0)\n",
      "Requirement already satisfied: six in /opt/ohpc/pub/apps/miniconda/4.8.3/envs/wrfda/lib/python3.9/site-packages (from mplleaflet) (1.15.0)\n",
      "Requirement already satisfied: MarkupSafe>=2.0.0rc2 in /opt/ohpc/pub/apps/miniconda/4.8.3/envs/wrfda/lib/python3.9/site-packages (from jinja2->mplleaflet) (2.0.1)\n"
     ]
    }
   ],
   "source": [
    "!pip install netCDF4 \n",
    "!pip install matplotlib \n",
    "!pip install numpy \n",
    "!pip install folium\n",
    "!pip install mplleaflet"
   ]
  },
  {
   "cell_type": "code",
   "execution_count": 26,
   "metadata": {},
   "outputs": [],
   "source": [
    "import numpy as np\n",
    "\n",
    "import mplleaflet\n",
    "\n",
    "import folium\n",
    "from folium import plugins\n",
    "\n",
    "from netCDF4 import Dataset\n",
    "\n",
    "from wrf import getvar, interplevel, to_np, latlon_coords\n",
    "\n",
    "import matplotlib.pyplot as plt\n",
    "import cartopy.crs as ccrs"
   ]
  },
  {
   "cell_type": "code",
   "execution_count": 27,
   "metadata": {},
   "outputs": [],
   "source": [
    "nc= Dataset('/work/syseng/wrfda_2021-06-03-22.50.04/m1')"
   ]
  },
  {
   "cell_type": "code",
   "execution_count": 31,
   "metadata": {},
   "outputs": [],
   "source": [
    "def get_wind_data(data: Dataset, t: int, z: int):\n",
    "    z *= 1000\n",
    "    height = getvar(data, \"height\", timeidx=t)\n",
    "    u_all = getvar(data, 'ua', units=\"m s-1\", timeidx=t)\n",
    "    v_all = getvar(data, 'va', units=\"m s-1\", timeidx=t)\n",
    "    w_all = getvar(data, 'wa', units=\"m s-1\", timeidx=t)\n",
    "    u = interplevel(u_all, height, z)\n",
    "    v = interplevel(v_all, height, z)\n",
    "    w = interplevel(w_all, height, z)\n",
    "    \n",
    "    return u, v, np.sqrt(u**2+v**2+w**2) \n",
    "\n",
    "U, V, mag = get_wind_data(nc, t=1, z=6)\n",
    "lats, lons = latlon_coords(U)\n",
    "\n",
    "fig, ax = plt.subplots()\n",
    "\n",
    "kw = dict(color='black', alpha=0.8, scale=1)\n",
    "q = ax.quiver(lats, lons, U, V,mag, **kw)"
   ]
  },
  {
   "cell_type": "code",
   "execution_count": 32,
   "metadata": {},
   "outputs": [
    {
     "ename": "AttributeError",
     "evalue": "'XAxis' object has no attribute '_gridOnMajor'",
     "output_type": "error",
     "traceback": [
      "\u001b[0;31m---------------------------------------------------------------------------\u001b[0m",
      "\u001b[0;31mAttributeError\u001b[0m                            Traceback (most recent call last)",
      "\u001b[0;32m<ipython-input-32-9e013d1b4a0d>\u001b[0m in \u001b[0;36m<module>\u001b[0;34m\u001b[0m\n\u001b[1;32m      4\u001b[0m \u001b[0;31m# folium_map = folium.Map(location=[lats.mean(), lons.mean()], tiles=\"Cartodb Positron\",zoom_start=11)\u001b[0m\u001b[0;34m\u001b[0m\u001b[0;34m\u001b[0m\u001b[0;34m\u001b[0m\u001b[0m\n\u001b[1;32m      5\u001b[0m \u001b[0;31m# folium_map\u001b[0m\u001b[0;34m\u001b[0m\u001b[0;34m\u001b[0m\u001b[0;34m\u001b[0m\u001b[0m\n\u001b[0;32m----> 6\u001b[0;31m \u001b[0mgj\u001b[0m \u001b[0;34m=\u001b[0m \u001b[0mmplleaflet\u001b[0m\u001b[0;34m.\u001b[0m\u001b[0mfig_to_geojson\u001b[0m\u001b[0;34m(\u001b[0m\u001b[0mfig\u001b[0m\u001b[0;34m=\u001b[0m\u001b[0mfig\u001b[0m\u001b[0;34m)\u001b[0m\u001b[0;34m\u001b[0m\u001b[0;34m\u001b[0m\u001b[0m\n\u001b[0m\u001b[1;32m      7\u001b[0m \u001b[0;34m\u001b[0m\u001b[0m\n\u001b[1;32m      8\u001b[0m \u001b[0mfeature_group0\u001b[0m \u001b[0;34m=\u001b[0m \u001b[0mfolium\u001b[0m\u001b[0;34m.\u001b[0m\u001b[0mFeatureGroup\u001b[0m\u001b[0;34m(\u001b[0m\u001b[0mname\u001b[0m\u001b[0;34m=\u001b[0m\u001b[0;34m'quiver'\u001b[0m\u001b[0;34m)\u001b[0m\u001b[0;34m\u001b[0m\u001b[0;34m\u001b[0m\u001b[0m\n",
      "\u001b[0;32m/opt/ohpc/pub/apps/miniconda/4.8.3/envs/wrfda/lib/python3.9/site-packages/mplleaflet/_display.py\u001b[0m in \u001b[0;36mfig_to_geojson\u001b[0;34m(fig, **kwargs)\u001b[0m\n\u001b[1;32m    119\u001b[0m     \u001b[0mrenderer\u001b[0m \u001b[0;34m=\u001b[0m \u001b[0mLeafletRenderer\u001b[0m\u001b[0;34m(\u001b[0m\u001b[0;34m**\u001b[0m\u001b[0mkwargs\u001b[0m\u001b[0;34m)\u001b[0m\u001b[0;34m\u001b[0m\u001b[0;34m\u001b[0m\u001b[0m\n\u001b[1;32m    120\u001b[0m     \u001b[0mexporter\u001b[0m \u001b[0;34m=\u001b[0m \u001b[0mExporter\u001b[0m\u001b[0;34m(\u001b[0m\u001b[0mrenderer\u001b[0m\u001b[0;34m)\u001b[0m\u001b[0;34m\u001b[0m\u001b[0;34m\u001b[0m\u001b[0m\n\u001b[0;32m--> 121\u001b[0;31m     \u001b[0mexporter\u001b[0m\u001b[0;34m.\u001b[0m\u001b[0mrun\u001b[0m\u001b[0;34m(\u001b[0m\u001b[0mfig\u001b[0m\u001b[0;34m)\u001b[0m\u001b[0;34m\u001b[0m\u001b[0;34m\u001b[0m\u001b[0m\n\u001b[0m\u001b[1;32m    122\u001b[0m \u001b[0;34m\u001b[0m\u001b[0m\n\u001b[1;32m    123\u001b[0m     \u001b[0;32mreturn\u001b[0m \u001b[0mrenderer\u001b[0m\u001b[0;34m.\u001b[0m\u001b[0mgeojson\u001b[0m\u001b[0;34m(\u001b[0m\u001b[0;34m)\u001b[0m\u001b[0;34m\u001b[0m\u001b[0;34m\u001b[0m\u001b[0m\n",
      "\u001b[0;32m/opt/ohpc/pub/apps/miniconda/4.8.3/envs/wrfda/lib/python3.9/site-packages/mplleaflet/mplexporter/exporter.py\u001b[0m in \u001b[0;36mrun\u001b[0;34m(self, fig)\u001b[0m\n\u001b[1;32m     49\u001b[0m             \u001b[0;32mimport\u001b[0m \u001b[0mmatplotlib\u001b[0m\u001b[0;34m.\u001b[0m\u001b[0mpyplot\u001b[0m \u001b[0;32mas\u001b[0m \u001b[0mplt\u001b[0m\u001b[0;34m\u001b[0m\u001b[0;34m\u001b[0m\u001b[0m\n\u001b[1;32m     50\u001b[0m             \u001b[0mplt\u001b[0m\u001b[0;34m.\u001b[0m\u001b[0mclose\u001b[0m\u001b[0;34m(\u001b[0m\u001b[0mfig\u001b[0m\u001b[0;34m)\u001b[0m\u001b[0;34m\u001b[0m\u001b[0;34m\u001b[0m\u001b[0m\n\u001b[0;32m---> 51\u001b[0;31m         \u001b[0mself\u001b[0m\u001b[0;34m.\u001b[0m\u001b[0mcrawl_fig\u001b[0m\u001b[0;34m(\u001b[0m\u001b[0mfig\u001b[0m\u001b[0;34m)\u001b[0m\u001b[0;34m\u001b[0m\u001b[0;34m\u001b[0m\u001b[0m\n\u001b[0m\u001b[1;32m     52\u001b[0m \u001b[0;34m\u001b[0m\u001b[0m\n\u001b[1;32m     53\u001b[0m     \u001b[0;34m@\u001b[0m\u001b[0mstaticmethod\u001b[0m\u001b[0;34m\u001b[0m\u001b[0;34m\u001b[0m\u001b[0m\n",
      "\u001b[0;32m/opt/ohpc/pub/apps/miniconda/4.8.3/envs/wrfda/lib/python3.9/site-packages/mplleaflet/mplexporter/exporter.py\u001b[0m in \u001b[0;36mcrawl_fig\u001b[0;34m(self, fig)\u001b[0m\n\u001b[1;32m    116\u001b[0m                                        props=utils.get_figure_properties(fig)):\n\u001b[1;32m    117\u001b[0m             \u001b[0;32mfor\u001b[0m \u001b[0max\u001b[0m \u001b[0;32min\u001b[0m \u001b[0mfig\u001b[0m\u001b[0;34m.\u001b[0m\u001b[0maxes\u001b[0m\u001b[0;34m:\u001b[0m\u001b[0;34m\u001b[0m\u001b[0;34m\u001b[0m\u001b[0m\n\u001b[0;32m--> 118\u001b[0;31m                 \u001b[0mself\u001b[0m\u001b[0;34m.\u001b[0m\u001b[0mcrawl_ax\u001b[0m\u001b[0;34m(\u001b[0m\u001b[0max\u001b[0m\u001b[0;34m)\u001b[0m\u001b[0;34m\u001b[0m\u001b[0;34m\u001b[0m\u001b[0m\n\u001b[0m\u001b[1;32m    119\u001b[0m \u001b[0;34m\u001b[0m\u001b[0m\n\u001b[1;32m    120\u001b[0m     \u001b[0;32mdef\u001b[0m \u001b[0mcrawl_ax\u001b[0m\u001b[0;34m(\u001b[0m\u001b[0mself\u001b[0m\u001b[0;34m,\u001b[0m \u001b[0max\u001b[0m\u001b[0;34m)\u001b[0m\u001b[0;34m:\u001b[0m\u001b[0;34m\u001b[0m\u001b[0;34m\u001b[0m\u001b[0m\n",
      "\u001b[0;32m/opt/ohpc/pub/apps/miniconda/4.8.3/envs/wrfda/lib/python3.9/site-packages/mplleaflet/mplexporter/exporter.py\u001b[0m in \u001b[0;36mcrawl_ax\u001b[0;34m(self, ax)\u001b[0m\n\u001b[1;32m    121\u001b[0m         \u001b[0;34m\"\"\"Crawl the axes and process all elements within\"\"\"\u001b[0m\u001b[0;34m\u001b[0m\u001b[0;34m\u001b[0m\u001b[0m\n\u001b[1;32m    122\u001b[0m         with self.renderer.draw_axes(ax=ax,\n\u001b[0;32m--> 123\u001b[0;31m                                      props=utils.get_axes_properties(ax)):\n\u001b[0m\u001b[1;32m    124\u001b[0m             \u001b[0;32mfor\u001b[0m \u001b[0mline\u001b[0m \u001b[0;32min\u001b[0m \u001b[0max\u001b[0m\u001b[0;34m.\u001b[0m\u001b[0mlines\u001b[0m\u001b[0;34m:\u001b[0m\u001b[0;34m\u001b[0m\u001b[0;34m\u001b[0m\u001b[0m\n\u001b[1;32m    125\u001b[0m                 \u001b[0mself\u001b[0m\u001b[0;34m.\u001b[0m\u001b[0mdraw_line\u001b[0m\u001b[0;34m(\u001b[0m\u001b[0max\u001b[0m\u001b[0;34m,\u001b[0m \u001b[0mline\u001b[0m\u001b[0;34m)\u001b[0m\u001b[0;34m\u001b[0m\u001b[0;34m\u001b[0m\u001b[0m\n",
      "\u001b[0;32m/opt/ohpc/pub/apps/miniconda/4.8.3/envs/wrfda/lib/python3.9/site-packages/mplleaflet/mplexporter/utils.py\u001b[0m in \u001b[0;36mget_axes_properties\u001b[0;34m(ax)\u001b[0m\n\u001b[1;32m    265\u001b[0m              \u001b[0;34m'frame_on'\u001b[0m\u001b[0;34m:\u001b[0m \u001b[0max\u001b[0m\u001b[0;34m.\u001b[0m\u001b[0mget_frame_on\u001b[0m\u001b[0;34m(\u001b[0m\u001b[0;34m)\u001b[0m\u001b[0;34m,\u001b[0m\u001b[0;34m\u001b[0m\u001b[0;34m\u001b[0m\u001b[0m\n\u001b[1;32m    266\u001b[0m              \u001b[0;34m'patch_visible'\u001b[0m\u001b[0;34m:\u001b[0m\u001b[0max\u001b[0m\u001b[0;34m.\u001b[0m\u001b[0mpatch\u001b[0m\u001b[0;34m.\u001b[0m\u001b[0mget_visible\u001b[0m\u001b[0;34m(\u001b[0m\u001b[0;34m)\u001b[0m\u001b[0;34m,\u001b[0m\u001b[0;34m\u001b[0m\u001b[0;34m\u001b[0m\u001b[0m\n\u001b[0;32m--> 267\u001b[0;31m              'axes': [get_axis_properties(ax.xaxis),\n\u001b[0m\u001b[1;32m    268\u001b[0m                       get_axis_properties(ax.yaxis)]}\n\u001b[1;32m    269\u001b[0m \u001b[0;34m\u001b[0m\u001b[0m\n",
      "\u001b[0;32m/opt/ohpc/pub/apps/miniconda/4.8.3/envs/wrfda/lib/python3.9/site-packages/mplleaflet/mplexporter/utils.py\u001b[0m in \u001b[0;36mget_axis_properties\u001b[0;34m(axis)\u001b[0m\n\u001b[1;32m    229\u001b[0m \u001b[0;34m\u001b[0m\u001b[0m\n\u001b[1;32m    230\u001b[0m     \u001b[0;31m# Get associated grid\u001b[0m\u001b[0;34m\u001b[0m\u001b[0;34m\u001b[0m\u001b[0;34m\u001b[0m\u001b[0m\n\u001b[0;32m--> 231\u001b[0;31m     \u001b[0mprops\u001b[0m\u001b[0;34m[\u001b[0m\u001b[0;34m'grid'\u001b[0m\u001b[0;34m]\u001b[0m \u001b[0;34m=\u001b[0m \u001b[0mget_grid_style\u001b[0m\u001b[0;34m(\u001b[0m\u001b[0maxis\u001b[0m\u001b[0;34m)\u001b[0m\u001b[0;34m\u001b[0m\u001b[0;34m\u001b[0m\u001b[0m\n\u001b[0m\u001b[1;32m    232\u001b[0m \u001b[0;34m\u001b[0m\u001b[0m\n\u001b[1;32m    233\u001b[0m     \u001b[0;31m# get axis visibility\u001b[0m\u001b[0;34m\u001b[0m\u001b[0;34m\u001b[0m\u001b[0;34m\u001b[0m\u001b[0m\n",
      "\u001b[0;32m/opt/ohpc/pub/apps/miniconda/4.8.3/envs/wrfda/lib/python3.9/site-packages/mplleaflet/mplexporter/utils.py\u001b[0m in \u001b[0;36mget_grid_style\u001b[0;34m(axis)\u001b[0m\n\u001b[1;32m    239\u001b[0m \u001b[0;32mdef\u001b[0m \u001b[0mget_grid_style\u001b[0m\u001b[0;34m(\u001b[0m\u001b[0maxis\u001b[0m\u001b[0;34m)\u001b[0m\u001b[0;34m:\u001b[0m\u001b[0;34m\u001b[0m\u001b[0;34m\u001b[0m\u001b[0m\n\u001b[1;32m    240\u001b[0m     \u001b[0mgridlines\u001b[0m \u001b[0;34m=\u001b[0m \u001b[0maxis\u001b[0m\u001b[0;34m.\u001b[0m\u001b[0mget_gridlines\u001b[0m\u001b[0;34m(\u001b[0m\u001b[0;34m)\u001b[0m\u001b[0;34m\u001b[0m\u001b[0;34m\u001b[0m\u001b[0m\n\u001b[0;32m--> 241\u001b[0;31m     \u001b[0;32mif\u001b[0m \u001b[0maxis\u001b[0m\u001b[0;34m.\u001b[0m\u001b[0m_gridOnMajor\u001b[0m \u001b[0;32mand\u001b[0m \u001b[0mlen\u001b[0m\u001b[0;34m(\u001b[0m\u001b[0mgridlines\u001b[0m\u001b[0;34m)\u001b[0m \u001b[0;34m>\u001b[0m \u001b[0;36m0\u001b[0m\u001b[0;34m:\u001b[0m\u001b[0;34m\u001b[0m\u001b[0;34m\u001b[0m\u001b[0m\n\u001b[0m\u001b[1;32m    242\u001b[0m         \u001b[0mcolor\u001b[0m \u001b[0;34m=\u001b[0m \u001b[0mcolor_to_hex\u001b[0m\u001b[0;34m(\u001b[0m\u001b[0mgridlines\u001b[0m\u001b[0;34m[\u001b[0m\u001b[0;36m0\u001b[0m\u001b[0;34m]\u001b[0m\u001b[0;34m.\u001b[0m\u001b[0mget_color\u001b[0m\u001b[0;34m(\u001b[0m\u001b[0;34m)\u001b[0m\u001b[0;34m)\u001b[0m\u001b[0;34m\u001b[0m\u001b[0;34m\u001b[0m\u001b[0m\n\u001b[1;32m    243\u001b[0m         \u001b[0malpha\u001b[0m \u001b[0;34m=\u001b[0m \u001b[0mgridlines\u001b[0m\u001b[0;34m[\u001b[0m\u001b[0;36m0\u001b[0m\u001b[0;34m]\u001b[0m\u001b[0;34m.\u001b[0m\u001b[0mget_alpha\u001b[0m\u001b[0;34m(\u001b[0m\u001b[0;34m)\u001b[0m\u001b[0;34m\u001b[0m\u001b[0;34m\u001b[0m\u001b[0m\n",
      "\u001b[0;31mAttributeError\u001b[0m: 'XAxis' object has no attribute '_gridOnMajor'"
     ]
    }
   ],
   "source": [
    "# # convert to (n, 2) nd-array format for heatmap\n",
    "# stationArr = df_mag[['XLAT', 'XLONG']]\n",
    "# stationArr\n",
    "# folium_map = folium.Map(location=[lats.mean(), lons.mean()], tiles=\"Cartodb Positron\",zoom_start=11)     \n",
    "# folium_map\n",
    "gj = mplleaflet.fig_to_geojson(fig=fig)\n",
    "\n",
    "feature_group0 = folium.FeatureGroup(name='quiver')\n",
    "\n",
    "folium_map = folium.Map(location=[lats.mean(), lons.mean()], tiles=\"Cartodb Positron\",\n",
    "                  zoom_start=10)\n",
    "\n",
    "for feature in gj['features']:\n",
    "    if feature['geometry']['type'] == 'Point':\n",
    "        lon, lat = feature['geometry']['coordinates']\n",
    "        div = feature['properties']['html']\n",
    "\n",
    "        icon_anchor = (feature['properties']['anchor_x'],\n",
    "                       feature['properties']['anchor_y'])\n",
    "\n",
    "        icon = folium.features.DivIcon(html=div,\n",
    "                                       icon_anchor=icon_anchor)\n",
    "        marker = folium.Marker([lat, lon], icon=icon)\n",
    "        feature_group0.add_children(marker)\n",
    "    else:\n",
    "        msg = \"Unexpected geometry {}\".format\n",
    "        raise ValueError(msg(feature['geometry']))\n",
    "    \n",
    "folium_map.add_child(feature_group0)\n",
    "folium_map\n",
    "\n",
    "# TODO: We need to apply the fix https://github.com/plotly/plotly.py/issues/2913 in mplleaflet\n",
    "# But mplexporter is a submodule of https://github.com/sjdonado/mplleaflet\n",
    "# -> https://github.com/jwass/mplexporter/blob/589603c4e314fd515a1bcddb79951e4fffddbf28/mplexporter/utils.py\n",
    "# We can't clone recursive because of public key protection"
   ]
  }
 ],
 "metadata": {
  "kernelspec": {
   "display_name": "Python 3",
   "language": "python",
   "name": "python3"
  },
  "language_info": {
   "codemirror_mode": {
    "name": "ipython",
    "version": 3
   },
   "file_extension": ".py",
   "mimetype": "text/x-python",
   "name": "python",
   "nbconvert_exporter": "python",
   "pygments_lexer": "ipython3",
   "version": "3.9.5"
  }
 },
 "nbformat": 4,
 "nbformat_minor": 4
}
